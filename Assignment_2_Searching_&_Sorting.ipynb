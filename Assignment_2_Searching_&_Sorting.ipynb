{
  "nbformat": 4,
  "nbformat_minor": 0,
  "metadata": {
    "colab": {
      "provenance": []
    },
    "kernelspec": {
      "name": "python3",
      "display_name": "Python 3"
    },
    "language_info": {
      "name": "python"
    }
  },
  "cells": [
    {
      "cell_type": "markdown",
      "source": [
        "# Binary Search in python"
      ],
      "metadata": {
        "id": "NCqNUL_lCYdr"
      }
    },
    {
      "cell_type": "code",
      "execution_count": 1,
      "metadata": {
        "id": "pl6RvYliCUt4",
        "colab": {
          "base_uri": "https://localhost:8080/"
        },
        "outputId": "5702bc92-4d83-4d1c-ba2a-b61428c3428c"
      },
      "outputs": [
        {
          "output_type": "stream",
          "name": "stdout",
          "text": [
            "Enter the elements separated by commas: 1,2,3,4,5,1\n",
            "Enter the element you want to search for: 4\n",
            "Element 4 is present at index 3\n"
          ]
        }
      ],
      "source": [
        "class BinarySearch:\n",
        "    def __init__(self, array):\n",
        "        self.array = array\n",
        "\n",
        "    def search(self, x):\n",
        "        low = 0\n",
        "        high = len(self.array) - 1\n",
        "\n",
        "        while low <= high:\n",
        "            mid = low + (high - low) // 2\n",
        "\n",
        "            if self.array[mid] == x:\n",
        "                return mid\n",
        "            elif self.array[mid] < x:\n",
        "                low = mid + 1\n",
        "            else:\n",
        "                high = mid - 1\n",
        "\n",
        "        return -1\n",
        "\n",
        "\n",
        "input_array = input(\"Enter the elements separated by commas: \").split(\",\")\n",
        "array = [int(item) for item in input_array]\n",
        "\n",
        "\n",
        "x = int(input(\"Enter the element you want to search for: \"))\n",
        "\n",
        "\n",
        "binary_search = BinarySearch(array)\n",
        "\n",
        "\n",
        "result = binary_search.search(x)\n",
        "\n",
        "if result != -1:\n",
        "    print(f\"Element {x} is present at index {result}\")\n",
        "else:\n",
        "    print(f\"Element {x} not found\")\n"
      ]
    },
    {
      "cell_type": "markdown",
      "source": [
        "#Implement Merge Sort"
      ],
      "metadata": {
        "id": "xY6ZgxRuCcVl"
      }
    },
    {
      "cell_type": "code",
      "source": [
        "class MergeSort:\n",
        "    def __init__(self, arr):\n",
        "        self.arr = arr\n",
        "\n",
        "    def merge_sort(self):\n",
        "        if len(self.arr) > 1:\n",
        "            mid = len(self.arr) // 2\n",
        "            left_half = self.arr[:mid]\n",
        "            right_half = self.arr[mid:]\n",
        "\n",
        "            left_sorter = MergeSort(left_half)\n",
        "            right_sorter = MergeSort(right_half)\n",
        "\n",
        "            left_sorter.merge_sort()\n",
        "            right_sorter.merge_sort()\n",
        "\n",
        "            i = j = k = 0\n",
        "\n",
        "            while i < len(left_half) and j < len(right_half):\n",
        "                if left_half[i] < right_half[j]:\n",
        "                    self.arr[k] = left_half[i]\n",
        "                    i += 1\n",
        "                else:\n",
        "                    self.arr[k] = right_half[j]\n",
        "                    j += 1\n",
        "                k += 1\n",
        "\n",
        "            while i < len(left_half):\n",
        "                self.arr[k] = left_half[i]\n",
        "                i += 1\n",
        "                k += 1\n",
        "\n",
        "            while j < len(right_half):\n",
        "                self.arr[k] = right_half[j]\n",
        "                j += 1\n",
        "                k += 1\n",
        "\n",
        "\n",
        "input_list = input(\"Enter elements separated by commas: \").split(',')\n",
        "elements = [int(num) for num in input_list]\n",
        "\n",
        "merge_sorter = MergeSort(elements)\n",
        "\n",
        "\n",
        "merge_sorter.merge_sort()\n",
        "\n",
        "print(\"Sorted list:\", merge_sorter.arr)\n"
      ],
      "metadata": {
        "colab": {
          "base_uri": "https://localhost:8080/"
        },
        "id": "fRt-qD82Cfxa",
        "outputId": "b3800ad7-7658-4267-b0ca-adbccb3f6e85"
      },
      "execution_count": 2,
      "outputs": [
        {
          "output_type": "stream",
          "name": "stdout",
          "text": [
            "Enter elements separated by commas: 2,5,6,7,1,8,2,1\n",
            "Sorted list: [1, 1, 2, 2, 5, 6, 7, 8]\n"
          ]
        }
      ]
    },
    {
      "cell_type": "markdown",
      "source": [
        "#Implement Quick Sort"
      ],
      "metadata": {
        "id": "8f5pgb4CDU--"
      }
    },
    {
      "cell_type": "code",
      "source": [
        "class QuickSort:\n",
        "    def __init__(self, arr):\n",
        "        self.arr = arr\n",
        "\n",
        "    def partition(self, start, end):\n",
        "        pivot = self.arr[start]\n",
        "        low = start + 1\n",
        "        high = end\n",
        "\n",
        "        while True:\n",
        "            while low <= high and self.arr[high] >= pivot:\n",
        "                high = high - 1\n",
        "\n",
        "            while low <= high and self.arr[low] <= pivot:\n",
        "                low = low + 1\n",
        "\n",
        "            if low <= high:\n",
        "                self.arr[low], self.arr[high] = self.arr[high], self.arr[low]\n",
        "            else:\n",
        "                break\n",
        "\n",
        "        self.arr[start], self.arr[high] = self.arr[high], self.arr[start]\n",
        "\n",
        "        return high\n",
        "\n",
        "    def quick_sort(self, start, end):\n",
        "        if start >= end:\n",
        "            return\n",
        "\n",
        "        p = self.partition(start, end)\n",
        "        self.quick_sort(start, p - 1)\n",
        "        self.quick_sort(p + 1, end)\n",
        "\n",
        "    def sort(self):\n",
        "        self.quick_sort(0, len(self.arr) - 1)\n",
        "\n",
        "\n",
        "input_list = input(\"Enter elements separated by commas: \").split(',')\n",
        "elements = [int(num) for num in input_list]\n",
        "\n",
        "quick_sorter = QuickSort(elements)\n",
        "\n",
        "\n",
        "quick_sorter.sort()\n",
        "\n",
        "print(\"Sorted list:\", quick_sorter.arr)\n"
      ],
      "metadata": {
        "colab": {
          "base_uri": "https://localhost:8080/"
        },
        "id": "qHz_omDvyc33",
        "outputId": "902f64bd-ce25-4e96-af35-ee3775be520e"
      },
      "execution_count": 3,
      "outputs": [
        {
          "output_type": "stream",
          "name": "stdout",
          "text": [
            "Enter elements separated by commas: 45,32,45,21,34,11,21,1\n",
            "Sorted list: [1, 11, 21, 21, 32, 34, 45, 45]\n"
          ]
        }
      ]
    },
    {
      "cell_type": "markdown",
      "source": [
        "#Implement Insertion sort"
      ],
      "metadata": {
        "id": "hVszr0VSw9_Y"
      }
    },
    {
      "cell_type": "code",
      "source": [
        "class InsertionSort:\n",
        "    def __init__(self, arr):\n",
        "        self.arr = arr\n",
        "\n",
        "    def sort(self):\n",
        "        for i in range(1, len(self.arr)):\n",
        "            temp = self.arr[i]\n",
        "            j = i - 1\n",
        "            while j >= 0 and temp < self.arr[j]:\n",
        "                self.arr[j + 1] = self.arr[j]\n",
        "                j -= 1\n",
        "            self.arr[j + 1] = temp\n",
        "\n",
        "\n",
        "input_list = input(\"Enter elements separated by commas: \").split(',')\n",
        "elements = [int(num) for num in input_list]\n",
        "\n",
        "insertion_sorter = InsertionSort(elements)\n",
        "\n",
        "insertion_sorter.sort()\n",
        "\n",
        "print(\"Array after sorting:\")\n",
        "print(insertion_sorter.arr)\n"
      ],
      "metadata": {
        "colab": {
          "base_uri": "https://localhost:8080/"
        },
        "id": "S55UArCdw1ay",
        "outputId": "a3db5caa-b66c-4e4d-82b5-61b1d1f999c3"
      },
      "execution_count": 4,
      "outputs": [
        {
          "output_type": "stream",
          "name": "stdout",
          "text": [
            "Enter elements separated by commas: 2,4,5,6,7,1,2,3,4,1,1,2\n",
            "Array after sorting:\n",
            "[1, 1, 1, 2, 2, 2, 3, 4, 4, 5, 6, 7]\n"
          ]
        }
      ]
    },
    {
      "cell_type": "markdown",
      "source": [
        "#Write a program to sort list of strings (similar to that of dictionary)"
      ],
      "metadata": {
        "id": "WZqsxjyPOoVo"
      }
    },
    {
      "cell_type": "code",
      "source": [
        "class StringListSorter:\n",
        "    def __init__(self, string_list):\n",
        "        self.string_list = string_list\n",
        "\n",
        "    def sort_lexicographically(self):\n",
        "        self.string_list.sort()\n",
        "\n",
        "    def display_sorted_list(self):\n",
        "        for string in self.string_list:\n",
        "            print(string)\n",
        "\n",
        "input_list = input(\"Enter a list of strings separated by commas: \").split(',')\n",
        "\n",
        "sorter = StringListSorter(input_list)\n",
        "\n",
        "\n",
        "sorter.sort_lexicographically()\n",
        "\n",
        "print(\"Sorted list of string:\")\n",
        "sorter.display_sorted_list()\n"
      ],
      "metadata": {
        "id": "n-ZeIgXVzPwn",
        "colab": {
          "base_uri": "https://localhost:8080/"
        },
        "outputId": "4ca7c40f-7544-4a93-fe14-61f8deacd24f"
      },
      "execution_count": 8,
      "outputs": [
        {
          "output_type": "stream",
          "name": "stdout",
          "text": [
            "Enter a list of strings separated by commas: akl,cfh,stack,queue,list\n",
            "Sorted list of string:\n",
            "akl\n",
            "cfh\n",
            "list\n",
            "queue\n",
            "stack\n"
          ]
        }
      ]
    }
  ]
}