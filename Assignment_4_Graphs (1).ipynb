{
  "nbformat": 4,
  "nbformat_minor": 0,
  "metadata": {
    "colab": {
      "provenance": []
    },
    "kernelspec": {
      "name": "python3",
      "display_name": "Python 3"
    },
    "language_info": {
      "name": "python"
    }
  },
  "cells": [
    {
      "cell_type": "markdown",
      "source": [
        "Breadth First Traversal for a Graph\n"
      ],
      "metadata": {
        "id": "XV3ZN3S3Hjp_"
      }
    },
    {
      "cell_type": "code",
      "source": [
        "class Graph:\n",
        "    def __init__(self):\n",
        "        self.graph = {}\n",
        "\n",
        "    def add_vertex(self, vertex):\n",
        "        if vertex not in self.graph:\n",
        "            self.graph[vertex] = []\n",
        "\n",
        "    def add_edge(self, start, end):\n",
        "        if start in self.graph:\n",
        "            self.graph[start].append(end)\n",
        "\n",
        "    def bfs(self, start):\n",
        "        visited = set()\n",
        "        queue = []\n",
        "\n",
        "        visited.add(start)\n",
        "        queue.append(start)\n",
        "\n",
        "        while queue:\n",
        "            vertex = queue.pop(0)\n",
        "            print(vertex, end=' ')\n",
        "\n",
        "            for neighbor in self.graph[vertex]:\n",
        "                if neighbor not in visited:\n",
        "                    visited.add(neighbor)\n",
        "                    queue.append(neighbor)\n",
        "\n",
        "\n",
        "graph = Graph()\n",
        "\n",
        "while True:\n",
        "    choice = input(\"Enter 'V' to add a vertex, 'E' to add an edge, or 'Q' to quit: \").strip().upper()\n",
        "\n",
        "    if choice == 'V':\n",
        "        vertex = input(\"Enter vertex name: \")\n",
        "        graph.add_vertex(vertex)\n",
        "    elif choice == 'E':\n",
        "        start = input(\"Enter the start vertex: \")\n",
        "        end = input(\"Enter the end vertex: \")\n",
        "        graph.add_edge(start, end)\n",
        "    elif choice == 'Q':\n",
        "        break\n",
        "    else:\n",
        "        print(\"Invalid choice. Please enter 'V', 'E', or 'Q'.\")\n",
        "\n",
        "start_vertex = input(\"Enter the starting vertex for BFS: \")\n",
        "print(\"Breadth First Traversal:\")\n",
        "graph.bfs(start_vertex)\n"
      ],
      "metadata": {
        "colab": {
          "base_uri": "https://localhost:8080/"
        },
        "id": "b8DDugr5EXNk",
        "outputId": "58e1eda7-f11e-4be9-f4b6-b2ada320f9ec"
      },
      "execution_count": 6,
      "outputs": [
        {
          "output_type": "stream",
          "name": "stdout",
          "text": [
            "Enter 'V' to add a vertex, 'E' to add an edge, or 'Q' to quit: V\n",
            "Enter vertex name: A\n",
            "Enter 'V' to add a vertex, 'E' to add an edge, or 'Q' to quit: V\n",
            "Enter vertex name: B\n",
            "Enter 'V' to add a vertex, 'E' to add an edge, or 'Q' to quit: V\n",
            "Enter vertex name: C\n",
            "Enter 'V' to add a vertex, 'E' to add an edge, or 'Q' to quit: E\n",
            "Enter the start vertex: A\n",
            "Enter the end vertex: C\n",
            "Enter 'V' to add a vertex, 'E' to add an edge, or 'Q' to quit: E\n",
            "Enter the start vertex: B\n",
            "Enter the end vertex: C\n",
            "Enter 'V' to add a vertex, 'E' to add an edge, or 'Q' to quit: E\n",
            "Enter the start vertex: A\n",
            "Enter the end vertex: B\n",
            "Enter 'V' to add a vertex, 'E' to add an edge, or 'Q' to quit: Q\n",
            "Enter the starting vertex for BFS: A\n",
            "Breadth First Traversal:\n",
            "A C B "
          ]
        }
      ]
    },
    {
      "cell_type": "markdown",
      "source": [
        "Depth First Traversal for a Graph\n"
      ],
      "metadata": {
        "id": "ozhZXdybHgCl"
      }
    },
    {
      "cell_type": "code",
      "source": [
        "class Graph:\n",
        "    def __init__(self):\n",
        "        self.graph = {}\n",
        "\n",
        "    def add_vertex(self, vertex):\n",
        "        if vertex not in self.graph:\n",
        "            self.graph[vertex] = []\n",
        "\n",
        "    def add_edge(self, start, end):\n",
        "        if start in self.graph:\n",
        "            self.graph[start].append(end)\n",
        "\n",
        "    def dfs(self, start):\n",
        "        visited = set()\n",
        "        self._dfs_recursive(start, visited)\n",
        "\n",
        "    def _dfs_recursive(self, vertex, visited):\n",
        "        if vertex not in visited:\n",
        "            print(vertex, end=' ')\n",
        "            visited.add(vertex)\n",
        "            for neighbor in self.graph[vertex]:\n",
        "                self._dfs_recursive(neighbor, visited)\n",
        "\n",
        "\n",
        "graph = Graph()\n",
        "\n",
        "while True:\n",
        "    choice = input(\"Enter 'V' to add a vertex, 'E' to add an edge, or u want to quit then enter 'Q': \").strip().upper()\n",
        "\n",
        "    if choice == 'V':\n",
        "        vertex = input(\"Enter vertex name: \")\n",
        "        graph.add_vertex(vertex)\n",
        "    elif choice == 'E':\n",
        "        start = input(\"Enter the start vertex: \")\n",
        "        end = input(\"Enter the end vertex: \")\n",
        "        graph.add_edge(start, end)\n",
        "    elif choice == 'Q':\n",
        "        break\n",
        "    else:\n",
        "        print(\"Invalid choice. Please enter 'V', 'E', or 'Q'.\")\n",
        "\n",
        "start_vertex = input(\"Enter the starting vertex for DFS: \")\n",
        "print(\"Depth First Traversal:\")\n",
        "graph.dfs(start_vertex)\n"
      ],
      "metadata": {
        "colab": {
          "base_uri": "https://localhost:8080/"
        },
        "id": "3SZEb59EF6RJ",
        "outputId": "e1290c95-8c59-432d-81a4-ae516f9b1042"
      },
      "execution_count": 5,
      "outputs": [
        {
          "output_type": "stream",
          "name": "stdout",
          "text": [
            "Enter 'V' to add a vertex, 'E' to add an edge, or u want to quit then enter 'Q': V\n",
            "Enter vertex name: A\n",
            "Enter 'V' to add a vertex, 'E' to add an edge, or u want to quit then enter 'Q': V\n",
            "Enter vertex name: B\n",
            "Enter 'V' to add a vertex, 'E' to add an edge, or u want to quit then enter 'Q': V\n",
            "Enter vertex name: C\n",
            "Enter 'V' to add a vertex, 'E' to add an edge, or u want to quit then enter 'Q': E\n",
            "Enter the start vertex: A\n",
            "Enter the end vertex: B\n",
            "Enter 'V' to add a vertex, 'E' to add an edge, or u want to quit then enter 'Q': E\n",
            "Enter the start vertex: B\n",
            "Enter the end vertex: C\n",
            "Enter 'V' to add a vertex, 'E' to add an edge, or u want to quit then enter 'Q': E\n",
            "Enter the start vertex: A\n",
            "Enter the end vertex: C\n",
            "Enter 'V' to add a vertex, 'E' to add an edge, or u want to quit then enter 'Q': Q\n",
            "Enter the starting vertex for DFS: A\n",
            "Depth First Traversal:\n",
            "A B C "
          ]
        }
      ]
    },
    {
      "cell_type": "markdown",
      "source": [
        "Count the number of nodes at given level in a tree using BFS\n"
      ],
      "metadata": {
        "id": "ejk_sr5SIbj2"
      }
    },
    {
      "cell_type": "code",
      "source": [
        "class TreeNode:\n",
        "    def __init__(self, value):\n",
        "        self.value = value\n",
        "        self.children = []\n",
        "\n",
        "def count_nodes_at_level(root, level_to_count):\n",
        "    if not root:\n",
        "        return 0\n",
        "\n",
        "    queue = [(root, 0)]\n",
        "    count = 0\n",
        "\n",
        "    while queue:\n",
        "        node, level = queue.pop(0)\n",
        "\n",
        "        if level == level_to_count:\n",
        "            count += 1\n",
        "\n",
        "        for child in node.children:\n",
        "            queue.append((child, level + 1))\n",
        "\n",
        "    return count\n",
        "\n",
        "def build_tree():\n",
        "    value = int(input(\"Enter the root value: \"))\n",
        "    root = TreeNode(value)\n",
        "    queue = [root]\n",
        "\n",
        "    while queue:\n",
        "        current_node = queue.pop(0)\n",
        "        num_children = int(input(f\"Enter the number of children for node {current_node.value} (0 to finish): \"))\n",
        "\n",
        "        for _ in range(num_children):\n",
        "            child_value = int(input(f\"Enter the value for child of {current_node.value}: \"))\n",
        "            child_node = TreeNode(child_value)\n",
        "            current_node.children.append(child_node)\n",
        "            queue.append(child_node)\n",
        "\n",
        "    return root\n",
        "\n",
        "root = build_tree()\n",
        "\n",
        "level_to_count = int(input(\"Enter the level to count nodes: \"))\n",
        "count = count_nodes_at_level(root, level_to_count)\n",
        "print(f\"Number of nodes at level {level_to_count}: {count}\")\n"
      ],
      "metadata": {
        "colab": {
          "base_uri": "https://localhost:8080/"
        },
        "id": "bPLp8T5cImdh",
        "outputId": "de98d545-bbed-4fe5-ca05-cfa3ee3d9651"
      },
      "execution_count": 8,
      "outputs": [
        {
          "output_type": "stream",
          "name": "stdout",
          "text": [
            "Enter the root value: 2\n",
            "Enter the number of children for node 2 (0 to finish): 1\n",
            "Enter the value for child of 2: 3\n",
            "Enter the number of children for node 3 (0 to finish): 1\n",
            "Enter the value for child of 3: 2\n",
            "Enter the number of children for node 2 (0 to finish): 1\n",
            "Enter the value for child of 2: 5\n",
            "Enter the number of children for node 5 (0 to finish): 0\n",
            "Enter the level to count nodes: 3\n",
            "Number of nodes at level 3: 1\n"
          ]
        }
      ]
    },
    {
      "cell_type": "markdown",
      "source": [
        "Count number of trees in a forest\n"
      ],
      "metadata": {
        "id": "5uWk4dzRJfgQ"
      }
    },
    {
      "cell_type": "code",
      "source": [
        "class Tree:\n",
        "    def __init__(self, name):\n",
        "        self.name = name\n",
        "        self.parent = None\n",
        "\n",
        "def find_root(tree):\n",
        "    if tree.parent is None:\n",
        "        return tree\n",
        "    return find_root(tree.parent)\n",
        "\n",
        "def count_trees_in_forest(forest):\n",
        "    root_count = set()\n",
        "\n",
        "    for tree in forest:\n",
        "        root = find_root(tree)\n",
        "        root_count.add(root)\n",
        "\n",
        "    return len(root_count)\n",
        "\n",
        "forest = []\n",
        "\n",
        "while True:\n",
        "    tree_name = input(\"Enter the name of a tree (or press Enter to finish): \").strip()\n",
        "    if not tree_name:\n",
        "        break\n",
        "\n",
        "    new_tree = Tree(tree_name)\n",
        "    forest.append(new_tree)\n",
        "\n",
        "num_trees = count_trees_in_forest(forest)\n",
        "\n",
        "print(f\"There are {num_trees} trees in the forest.\")\n"
      ],
      "metadata": {
        "colab": {
          "base_uri": "https://localhost:8080/"
        },
        "id": "HsDA1Sz-JgaR",
        "outputId": "320d3d6f-2b45-45b1-9e69-57b32fdedcde"
      },
      "execution_count": 10,
      "outputs": [
        {
          "output_type": "stream",
          "name": "stdout",
          "text": [
            "Enter the name of a tree (or press Enter to finish): apple\n",
            "Enter the name of a tree (or press Enter to finish): mango\n",
            "Enter the name of a tree (or press Enter to finish): tree\n",
            "Enter the name of a tree (or press Enter to finish): peru\n",
            "Enter the name of a tree (or press Enter to finish): \n",
            "There are 4 trees in the forest.\n"
          ]
        }
      ]
    },
    {
      "cell_type": "markdown",
      "source": [
        "Detect Cycle in a Directed Graph\n"
      ],
      "metadata": {
        "id": "8_V-_KMXKOJN"
      }
    },
    {
      "cell_type": "code",
      "source": [
        "class Graph:\n",
        "    def __init__(self):\n",
        "        self.graph = {}\n",
        "\n",
        "    def add_edge(self, u, v):\n",
        "        if u in self.graph:\n",
        "            self.graph[u].append(v)\n",
        "        else:\n",
        "            self.graph[u] = [v]\n",
        "\n",
        "    def is_cyclic_util(self, v, visited, recursion_stack):\n",
        "        visited[v] = True\n",
        "        recursion_stack[v] = True\n",
        "\n",
        "        if v in self.graph:\n",
        "            for neighbor in self.graph[v]:\n",
        "                if not visited[neighbor]:\n",
        "                    if self.is_cyclic_util(neighbor, visited, recursion_stack):\n",
        "                        return True\n",
        "                elif recursion_stack[neighbor]:\n",
        "                    return True\n",
        "\n",
        "        recursion_stack[v] = False\n",
        "        return False\n",
        "\n",
        "    def is_cyclic(self):\n",
        "        num_vertices = len(self.graph)\n",
        "        visited = {vertex: False for vertex in self.graph}\n",
        "        recursion_stack = {vertex: False for vertex in self.graph}\n",
        "\n",
        "        for vertex in self.graph:\n",
        "            if not visited[vertex]:\n",
        "                if self.is_cyclic_util(vertex, visited, recursion_stack):\n",
        "                    return True\n",
        "\n",
        "        return False\n",
        "\n",
        "graph = Graph()\n",
        "\n",
        "while True:\n",
        "    u = input(\"Enter source vertex (or press Enter to finish): \").strip()\n",
        "    if not u:\n",
        "        break\n",
        "    v = input(\"Enter destination vertex: \").strip()\n",
        "    graph.add_edge(u, v)\n",
        "\n",
        "if graph.is_cyclic():\n",
        "    print(\"The graph contains a cycle.\")\n",
        "else:\n",
        "    print(\"The graph does not contain a cycle.\")\n"
      ],
      "metadata": {
        "colab": {
          "base_uri": "https://localhost:8080/"
        },
        "id": "sipxCxQRKMMn",
        "outputId": "9e98fb8c-d522-4ca8-916f-d2d4f28cfd30"
      },
      "execution_count": 12,
      "outputs": [
        {
          "output_type": "stream",
          "name": "stdout",
          "text": [
            "Enter source vertex (or press Enter to finish): A\n",
            "Enter destination vertex: B\n",
            "Enter source vertex (or press Enter to finish): B\n",
            "Enter destination vertex: C\n",
            "Enter source vertex (or press Enter to finish): C\n",
            "Enter destination vertex: A\n",
            "Enter source vertex (or press Enter to finish): \n",
            "The graph contains a cycle.\n"
          ]
        }
      ]
    },
    {
      "cell_type": "markdown",
      "source": [
        "**Implement n-Queen’s Problem\n"
      ],
      "metadata": {
        "id": "Z4HzGyJkN1yU"
      }
    },
    {
      "cell_type": "code",
      "source": [
        "class NQueensSolver:\n",
        "    def __init__(self, n):\n",
        "        self.n = n\n",
        "        self.board = [[0 for _ in range(n)] for _ in range(n)]\n",
        "\n",
        "    def is_safe(self, row, col):\n",
        "        for i in range(col):\n",
        "            if self.board[row][i] == 1:\n",
        "                return False\n",
        "\n",
        "        for i, j in zip(range(row, -1, -1), range(col, -1, -1)):\n",
        "            if self.board[i][j] == 1:\n",
        "                return False\n",
        "\n",
        "        for i, j in zip(range(row, self.n, 1), range(col, -1, -1)):\n",
        "            if self.board[i][j] == 1:\n",
        "                return False\n",
        "\n",
        "        return True\n",
        "\n",
        "    def solve(self):\n",
        "        if not self.solve_util(0):\n",
        "            print(\"Solution does not exist.\")\n",
        "            return False\n",
        "\n",
        "        self.print_board()\n",
        "        return True\n",
        "\n",
        "    def solve_util(self, col):\n",
        "        if col >= self.n:\n",
        "            return True\n",
        "\n",
        "        for i in range(self.n):\n",
        "            if self.is_safe(i, col):\n",
        "                self.board[i][col] = 1\n",
        "\n",
        "                if self.solve_util(col + 1):\n",
        "                    return True\n",
        "\n",
        "                self.board[i][col] = 0\n",
        "\n",
        "        return False\n",
        "\n",
        "    def print_board(self):\n",
        "        for row in self.board:\n",
        "            print(\" \".join([\"Q\" if cell == 1 else \".\" for cell in row]))\n",
        "\n",
        "while True:\n",
        "    try:\n",
        "        N = int(input(\"Enter the number of queens (N): \"))\n",
        "        if N <= 0:\n",
        "            print(\"N should be a positive integer.\")\n",
        "        else:\n",
        "            break\n",
        "    except ValueError:\n",
        "        print(\"Invalid input. Please enter a valid integer.\")\n",
        "\n",
        "solver = NQueensSolver(N)\n",
        "solver.solve()\n"
      ],
      "metadata": {
        "colab": {
          "base_uri": "https://localhost:8080/"
        },
        "id": "CyCl5hv3Npzd",
        "outputId": "f6efec23-4af5-4629-b3ea-c995479aded6"
      },
      "execution_count": 13,
      "outputs": [
        {
          "output_type": "stream",
          "name": "stdout",
          "text": [
            "Enter the number of queens (N): 5\n",
            "Q . . . .\n",
            ". . . Q .\n",
            ". Q . . .\n",
            ". . . . Q\n",
            ". . Q . .\n"
          ]
        },
        {
          "output_type": "execute_result",
          "data": {
            "text/plain": [
              "True"
            ]
          },
          "metadata": {},
          "execution_count": 13
        }
      ]
    }
  ]
}