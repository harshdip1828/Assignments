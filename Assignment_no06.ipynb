{
  "nbformat": 4,
  "nbformat_minor": 0,
  "metadata": {
    "colab": {
      "provenance": []
    },
    "kernelspec": {
      "name": "python3",
      "display_name": "Python 3"
    },
    "language_info": {
      "name": "python"
    }
  },
  "cells": [
    {
      "cell_type": "markdown",
      "source": [
        "#Assignment 1\n",
        "# First Question"
      ],
      "metadata": {
        "id": "zl3Nw3x3vq7a"
      }
    },
    {
      "cell_type": "code",
      "source": [
        "import json\n",
        "\n",
        "employee_data = []\n",
        "num_employees = int(input(\"Enter the number of employees: \"))\n",
        "\n",
        "for i in range(num_employees):\n",
        "    print(f\"Enter details for Employee {i + 1}:\")\n",
        "    name = input(\"Name: \")\n",
        "    dob = input(\"DOB (YYYY-MM-DD): \")\n",
        "    height = int(input(\"Height: \"))\n",
        "    city = input(\"City: \")\n",
        "    state = input(\"State: \")\n",
        "    employee_data.append({\n",
        "        \"Name\": name,\n",
        "        \"DOB\": dob,\n",
        "        \"Height\": height,\n",
        "        \"City\": city,\n",
        "        \"State\": state\n",
        "    })\n",
        "\n",
        "\n",
        "with open('emp.json', 'w') as file:\n",
        "    json.dump(employee_data, file, indent=4)"
      ],
      "metadata": {
        "id": "HGWZyxlGMEBH",
        "colab": {
          "base_uri": "https://localhost:8080/"
        },
        "outputId": "78258e7d-e4ae-4212-9a58-5445fedebc44"
      },
      "execution_count": 4,
      "outputs": [
        {
          "name": "stdout",
          "output_type": "stream",
          "text": [
            "Enter the number of employees: 5\n",
            "Enter details for Employee 1:\n",
            "Name: Harshdip\n",
            "DOB (YYYY-MM-DD): 1997-12-05\n",
            "Height: 5\n",
            "City: Pune\n",
            "State: MH\n",
            "Enter details for Employee 2:\n",
            "Name: Snehal\n",
            "DOB (YYYY-MM-DD): 1996-12-08\n",
            "Height: 6\n",
            "City: Phaltan\n",
            "State: MH\n",
            "Enter details for Employee 3:\n",
            "Name: Aish\n",
            "DOB (YYYY-MM-DD): 1999-12-08\n",
            "Height: 5\n",
            "City: Nashik\n",
            "State: MH\n",
            "Enter details for Employee 4:\n",
            "Name: Shiv\n",
            "DOB (YYYY-MM-DD): 1999-09-01\n",
            "Height: 5\n",
            "City: Bhor\n",
            "State: MH\n",
            "Enter details for Employee 5:\n",
            "Name: Harsh\n",
            "DOB (YYYY-MM-DD): 2000-12-18\n",
            "Height: 6\n",
            "City: Kolhapur\n",
            "State: MH\n"
          ]
        }
      ]
    },
    {
      "cell_type": "markdown",
      "source": [
        "# Second Question"
      ],
      "metadata": {
        "id": "bjkTyL_Z7GrK"
      }
    },
    {
      "cell_type": "code",
      "execution_count": 5,
      "metadata": {
        "colab": {
          "base_uri": "https://localhost:8080/"
        },
        "id": "Bh1KE3eDtlI-",
        "outputId": "77801008-8ffc-4d50-f5ac-4de868424819"
      },
      "outputs": [
        {
          "name": "stdout",
          "output_type": "stream",
          "text": [
            "Enter a state: Maharastra\n",
            "Enter the capital of Maharastra: Mumbai\n",
            "Enter a state: Rajstan\n",
            "Enter the capital of Rajstan: jaipur\n",
            "Enter a state: UP\n",
            "Enter the capital of UP: Lacknow\n",
            "Enter a state: Tamil Nadu\n",
            "Enter the capital of Tamil Nadu: Chennai\n",
            "Enter a state: Gujrat\n",
            "Enter the capital of Gujrat: Gandhinagar\n",
            "Enter a state: Panjab\n",
            "Enter the capital of Panjab: Chandigarh\n",
            "Enter a state: Karnataka\n",
            "Enter the capital of Karnataka: Banglore\n"
          ]
        }
      ],
      "source": [
        "import json\n",
        "\n",
        "def main():\n",
        "    indian_states = {}\n",
        "    for _ in range(7):\n",
        "        state = input(\"Enter a state: \")\n",
        "        capital = input(f\"Enter the capital of {state}: \")\n",
        "        indian_states[state] = capital\n",
        "\n",
        "    with open('indian_states.json', 'w') as file:\n",
        "        json.dump(indian_states, file, indent=4)\n",
        "\n",
        "if __name__ == \"__main__\":\n",
        "    main()\n"
      ]
    },
    {
      "cell_type": "markdown",
      "source": [
        "#Assignment no.02"
      ],
      "metadata": {
        "id": "9rcWlrQQvxFy"
      }
    },
    {
      "cell_type": "code",
      "source": [
        "class Dog:\n",
        "    def __init__(self, name, age, coat_color):\n",
        "        self.name = name\n",
        "        self.age = age\n",
        "        self.coat_color = coat_color\n",
        "\n",
        "    def description(self):\n",
        "        print(f\"{self.name} is {self.age} years old.\")\n",
        "\n",
        "    def get_info(self):\n",
        "        print(f\"{self.name}'s coat color is {self.coat_color}.\")\n",
        "\n",
        "class JackRussellTerrier(Dog):\n",
        "    def __init__(self, name, age, coat_color):\n",
        "        super().__init__(name, age, coat_color)\n",
        "\n",
        "    def unique_method_jrt(self):\n",
        "        print(f\"{self.name} is a Jack Russell Terrier and loves to play fetch.\")\n",
        "\n",
        "class Bulldog(Dog):\n",
        "    def __init__(self, name, age, coat_color):\n",
        "        super().__init__(name, age, coat_color)\n",
        "\n",
        "    def unique_method_bulldog(self):\n",
        "        print(f\"{self.name} is a Bulldog and has a strong build.\")\n",
        "\n",
        "\n",
        "dog1 = Dog(\"Buddy\", 3, \"Brown\")\n",
        "dog1.description()\n",
        "dog1.get_info()\n",
        "\n",
        "jrt = JackRussellTerrier(\"Rusty\", 2, \"White and Brown\")\n",
        "jrt.description()\n",
        "jrt.get_info()\n",
        "jrt.unique_method_jrt()\n",
        "\n",
        "bulldog = Bulldog(\"Spike\", 4, \"Brindle\")\n",
        "bulldog.description()\n",
        "bulldog.get_info()\n",
        "bulldog.unique_method_bulldog()\n"
      ],
      "metadata": {
        "colab": {
          "base_uri": "https://localhost:8080/"
        },
        "id": "DLtU3TUU3oaK",
        "outputId": "9b6ac82e-0bc2-4817-f2fd-a5e3c0e57152"
      },
      "execution_count": 6,
      "outputs": [
        {
          "output_type": "stream",
          "name": "stdout",
          "text": [
            "Buddy is 3 years old.\n",
            "Buddy's coat color is Brown.\n",
            "Rusty is 2 years old.\n",
            "Rusty's coat color is White and Brown.\n",
            "Rusty is a Jack Russell Terrier and loves to play fetch.\n",
            "Spike is 4 years old.\n",
            "Spike's coat color is Brindle.\n",
            "Spike is a Bulldog and has a strong build.\n"
          ]
        }
      ]
    }
  ]
}