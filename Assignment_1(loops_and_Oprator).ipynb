{
  "nbformat": 4,
  "nbformat_minor": 0,
  "metadata": {
    "colab": {
      "provenance": []
    },
    "kernelspec": {
      "name": "python3",
      "display_name": "Python 3"
    },
    "language_info": {
      "name": "python"
    }
  },
  "cells": [
    {
      "cell_type": "markdown",
      "source": [
        "#Write a Python program to get the Fibonacci series between 0 to 50"
      ],
      "metadata": {
        "id": "QS4o1h9cxmS2"
      }
    },
    {
      "cell_type": "code",
      "execution_count": 10,
      "metadata": {
        "colab": {
          "base_uri": "https://localhost:8080/"
        },
        "id": "ITpAu2eKxTna",
        "outputId": "5989744f-8c70-43ab-9484-a7f8bc6e2df8"
      },
      "outputs": [
        {
          "output_type": "stream",
          "name": "stdout",
          "text": [
            "0\n",
            "1\n",
            "1\n",
            "2\n",
            "3\n",
            "5\n",
            "8\n",
            "13\n",
            "21\n",
            "34\n"
          ]
        }
      ],
      "source": [
        "\n",
        "a = 0\n",
        "b = 1\n",
        "\n",
        "print(a)\n",
        "\n",
        "for _ in range(50):\n",
        "    a, b = b, a + b\n",
        "    if a <= 50:\n",
        "        print(a)\n",
        "    else:\n",
        "        break\n"
      ]
    },
    {
      "cell_type": "markdown",
      "source": [
        "#Write a Python program that accepts a word from the user and reverse it."
      ],
      "metadata": {
        "id": "0CsMwyqdyAyN"
      }
    },
    {
      "cell_type": "code",
      "source": [
        "s = input(\"Enter the String :\")\n",
        "\n",
        "for i in s:\n",
        "  print(s[::-1])\n",
        "  break\n",
        "\n",
        "#---------------------------------- OR ---------------\n",
        "\n",
        "input_lst = input(\"Enter the String :\")\n",
        "for i in range(len(input_lst)-1,-1,-1):\n",
        "    print(input_lst[i],end = '')\n"
      ],
      "metadata": {
        "colab": {
          "base_uri": "https://localhost:8080/"
        },
        "id": "GC4pB3gwyAEX",
        "outputId": "31274fb8-5b37-4d6a-8413-f727d14f3c2c"
      },
      "execution_count": null,
      "outputs": [
        {
          "output_type": "stream",
          "name": "stdout",
          "text": [
            "Enter the String :Edyoda\n",
            "adoydE\n",
            "Enter the String :Edyoda\n",
            "adoydE"
          ]
        }
      ]
    },
    {
      "cell_type": "markdown",
      "source": [
        "#Write a Python program to count the number of even and odd numbers from a series of numbers.\n",
        "\n"
      ],
      "metadata": {
        "id": "Pyas7ECIziYV"
      }
    },
    {
      "cell_type": "code",
      "source": [
        "\n",
        "numbers = (1, 2, 3, 4, 5, 6, 7, 8, 9)\n",
        "even_count = 0\n",
        "odd_count = 0\n",
        "for num in numbers:\n",
        "    if num % 2 == 0:\n",
        "        even_count += 1\n",
        "    else:\n",
        "        odd_count += 1\n",
        "print(\"Number of even numbers:\", even_count)\n",
        "print(\"Number of odd numbers:\", odd_count)\n"
      ],
      "metadata": {
        "colab": {
          "base_uri": "https://localhost:8080/"
        },
        "id": "AKOmxY1Vzytj",
        "outputId": "597cf94f-bc84-4961-b7cd-c924547384db"
      },
      "execution_count": null,
      "outputs": [
        {
          "output_type": "stream",
          "name": "stdout",
          "text": [
            "Number of even numbers: 4\n",
            "Number of odd numbers: 5\n"
          ]
        }
      ]
    }
  ]
}