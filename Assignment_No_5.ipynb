{
  "nbformat": 4,
  "nbformat_minor": 0,
  "metadata": {
    "colab": {
      "provenance": []
    },
    "kernelspec": {
      "name": "python3",
      "display_name": "Python 3"
    },
    "language_info": {
      "name": "python"
    }
  },
  "cells": [
    {
      "cell_type": "markdown",
      "source": [
        "#Problem no.1"
      ],
      "metadata": {
        "id": "msvNp4q381wM"
      }
    },
    {
      "cell_type": "code",
      "execution_count": 19,
      "metadata": {
        "colab": {
          "base_uri": "https://localhost:8080/"
        },
        "id": "Ui_sFc5O22nV",
        "outputId": "af34f870-6784-49d0-edf1-9752a340542d"
      },
      "outputs": [
        {
          "output_type": "stream",
          "name": "stdout",
          "text": [
            "Enter the 3 numbers : 1,3,5\n",
            "35\n"
          ]
        }
      ],
      "source": [
        "class Point:\n",
        "    def __init__(self, x, y, z):\n",
        "        self.x = x\n",
        "        self.y = y\n",
        "        self.z = z\n",
        "    def sqSum(self):\n",
        "        return self.x ** 2 + self.y ** 2 + self.z ** 2\n",
        "\n",
        "x,y,z = map(int,input(\"Enter the 3 numbers : \").split(\",\"))\n",
        "\n",
        "point = Point(x,y,z)\n",
        "r = point.sqSum()\n",
        "print(r)\n"
      ]
    },
    {
      "cell_type": "markdown",
      "source": [
        "#Problem No.2"
      ],
      "metadata": {
        "id": "pnedjrq79F1s"
      }
    },
    {
      "cell_type": "code",
      "source": [
        "class Calculator:\n",
        "\n",
        "    def __init__(self,num1,num2):\n",
        "        self.num1=num1\n",
        "        self.num2=num2\n",
        "    def add(self):\n",
        "        return self.num1+self.num2\n",
        "    def subtract(self):\n",
        "      return self.num2-self.num1\n",
        "\n",
        "    def multiply(self):\n",
        "      return self.num1*self.num2\n",
        "\n",
        "    def divide(self):\n",
        "        return self.num2/self.num1\n",
        "\n",
        "num1,num2 = map(int,input(\"Enter the numbers : \").split(\",\"))\n",
        "obj = Calculator(num1,num2)\n",
        "print(\"Addition of the num1 and num2: \",obj.add())\n",
        "print(\"Substraction of the num1 and num2: \",obj.subtract())\n",
        "print(\"Multiplication of the num1 and num2: \",obj.multiply())\n",
        "print(\"Division of the num1 and num2 \",obj.divide())"
      ],
      "metadata": {
        "colab": {
          "base_uri": "https://localhost:8080/"
        },
        "id": "c3RctPGK533z",
        "outputId": "d0baa5a2-10a9-48cc-ede2-351ea9f479bc"
      },
      "execution_count": 21,
      "outputs": [
        {
          "output_type": "stream",
          "name": "stdout",
          "text": [
            "Enter the numbers : 10,94\n",
            "Addition of the num1 and num2:  104\n",
            "Substraction of the num1 and num2:  84\n",
            "Multiplication of the num1 and num2:  940\n",
            "Division of the num1 and num2  9.4\n"
          ]
        }
      ]
    },
    {
      "cell_type": "markdown",
      "source": [
        "#Problem no.3"
      ],
      "metadata": {
        "id": "LtSviSvA9Ji-"
      }
    },
    {
      "cell_type": "code",
      "source": [
        "class Student:\n",
        "    def setName(self, name):\n",
        "        self.__name = name\n",
        "\n",
        "    def getName(self):\n",
        "        return self.__name\n",
        "\n",
        "    def setRollNumber(self, rollNumber):\n",
        "        self.__rollNumber = rollNumber\n",
        "\n",
        "    def getRollNumber(self):\n",
        "        return self.__rollNumber\n",
        "\n",
        "name = input(\"Enter the name : \")\n",
        "roll_n = int(input(\"Enter the roll no.: \"))\n",
        "\n",
        "student = Student()\n",
        "student.setName(name)\n",
        "student.setRollNumber(roll_n)\n",
        "name = student.getName()\n",
        "roll_Number = student.getRollNumber()\n",
        "print(\"Name:\", name)\n",
        "print(\"Roll Number:\", roll_Number)\n",
        "\n"
      ],
      "metadata": {
        "colab": {
          "base_uri": "https://localhost:8080/"
        },
        "id": "mE6GCTU880YJ",
        "outputId": "898cde69-06e8-4fc8-f452-cd4cfc097946"
      },
      "execution_count": 22,
      "outputs": [
        {
          "output_type": "stream",
          "name": "stdout",
          "text": [
            "Enter the name : Harshdip\n",
            "Enter the roll no.: 18\n",
            "Name: Harshdip\n",
            "Roll Number: 18\n"
          ]
        }
      ]
    },
    {
      "cell_type": "markdown",
      "source": [
        "#Problem no.4"
      ],
      "metadata": {
        "id": "6HQHa_O89Nhp"
      }
    },
    {
      "cell_type": "code",
      "source": [
        "class Account:\n",
        "  def __init__(self,title=None,balance=0):\n",
        "      self.title = title\n",
        "      self.balance = balance\n",
        "\n",
        "class SavingsAccount(Account):\n",
        "    def __init__(self, title, balance=0, interestRate=0):\n",
        "        super().__init__(title, balance)\n",
        "        self.interestRate = interestRate\n",
        "    def interestAmount(self):\n",
        "       return (self.balance * self.interestRate) // 100\n",
        "\n",
        "\n",
        "title  = input(\"Enter Your Title : \")\n",
        "bal = int(input(\"Enter Your Balance : \"))\n",
        "acc = Account(title,bal)\n",
        "print(\"Account Title : \",title)\n",
        "print(\"Account Balance : \",bal)\n",
        "\n",
        "print(\"----------------------------------\")\n",
        "\n",
        "name1 = input(\"Enter Ur Account Title : \")\n",
        "bal1 = int(input(\"Enter the bank balance : \"))\n",
        "interestRate = float(input(\"Enter your InterestRate : \"))\n",
        "\n",
        "saving_acc = SavingsAccount(name1,bal1,interestRate)\n",
        "print(\"Account Title:\", saving_acc.title)\n",
        "print(\"Account Balance:\", saving_acc.balance)\n",
        "print(\"Interest Rate:\", saving_acc.interestRate)\n"
      ],
      "metadata": {
        "colab": {
          "base_uri": "https://localhost:8080/"
        },
        "id": "SckhQRX584x5",
        "outputId": "e46e6102-aaab-4e47-8131-42080ec162c8"
      },
      "execution_count": 38,
      "outputs": [
        {
          "output_type": "stream",
          "name": "stdout",
          "text": [
            "Enter Your Title : Ashish\n",
            "Enter Your Balance : 5000\n",
            "Account Title :  Ashish\n",
            "Account Balance :  5000\n",
            "----------------------------------\n",
            "Enter Ur Account Title : Ashish\n",
            "Enter the bank balance : 5000\n",
            "Enter your InterestRate : 5\n",
            "Account Title: Ashish\n",
            "Account Balance: 5000\n",
            "Interest Rate: 5.0\n"
          ]
        }
      ]
    },
    {
      "cell_type": "markdown",
      "source": [
        "#Problem no.5"
      ],
      "metadata": {
        "id": "IWVyUK6N9QCR"
      }
    },
    {
      "cell_type": "code",
      "source": [
        "title = str(input(\"enter the name : \"))\n",
        "balance = int(input(\"enter the balance : \"))\n",
        "int_rate = int(input(\"enter the interestRate : \"))\n",
        "\n",
        "class Account:\n",
        "    def __init__(self, title=None, balance=0):\n",
        "        self.title = title\n",
        "        self.balance = balance\n",
        "\n",
        "    def withdrawal(self, amount):\n",
        "        self.balance -= amount\n",
        "\n",
        "\n",
        "    def deposit(self, amount):\n",
        "         self.balance += amount\n",
        "\n",
        "    def getBalance(self):\n",
        "      return self.balance\n",
        "\n",
        "\n",
        "class SavingsAccount(Account):\n",
        "    def __init__(self, title=None, balance=0, interestRate=0):\n",
        "            super().__init__(title, balance)\n",
        "            self.interestRate = interestRate\n",
        "\n",
        "    def interestAmount(self):\n",
        "       return (self.balance * self.interestRate) // 100\n",
        "\n",
        "\n",
        "#Task 1 - In the Account class, implement the getBalance() method that returns balance.\n",
        "\n",
        "demo1 = SavingsAccount(\"Ashish\",2000,5)\n",
        "print(\"Returning balance \",demo1.getBalance())"
      ],
      "metadata": {
        "colab": {
          "base_uri": "https://localhost:8080/"
        },
        "id": "cPF-Hu5UEvB8",
        "outputId": "f1fca0e3-4d92-4f0d-d811-ae6a4f99da55"
      },
      "execution_count": 49,
      "outputs": [
        {
          "output_type": "stream",
          "name": "stdout",
          "text": [
            "enter the name : Ashish\n",
            "enter the balance : 2000\n",
            "enter the interestRate : 5\n",
            "Returning balance  2000\n"
          ]
        }
      ]
    },
    {
      "cell_type": "code",
      "source": [
        "# Task_No.2\n",
        "demo1.balance = 2000\n",
        "demo1.deposit(500)\n",
        "demo1.getBalance()\n"
      ],
      "metadata": {
        "colab": {
          "base_uri": "https://localhost:8080/"
        },
        "id": "YmQcfNWm1ylN",
        "outputId": "259bb435-2a8c-45bd-8123-c335dbfa2f73"
      },
      "execution_count": 46,
      "outputs": [
        {
          "output_type": "execute_result",
          "data": {
            "text/plain": [
              "2500"
            ]
          },
          "metadata": {},
          "execution_count": 46
        }
      ]
    },
    {
      "cell_type": "code",
      "source": [
        "# Task_No.3\n",
        "demo1.balance = 2000\n",
        "demo1.withdrawal(500)\n",
        "demo1.getBalance()"
      ],
      "metadata": {
        "colab": {
          "base_uri": "https://localhost:8080/"
        },
        "id": "0Lb02SUP13Sx",
        "outputId": "c033d6d3-f654-4a49-e881-b948bc82eb5b"
      },
      "execution_count": 47,
      "outputs": [
        {
          "output_type": "execute_result",
          "data": {
            "text/plain": [
              "1500"
            ]
          },
          "metadata": {},
          "execution_count": 47
        }
      ]
    },
    {
      "cell_type": "code",
      "source": [
        "# Task_No.4\n",
        "demo1.balance = 2000\n",
        "demo1.interestRate = 5\n",
        "demo1.interestAmount()"
      ],
      "metadata": {
        "colab": {
          "base_uri": "https://localhost:8080/"
        },
        "id": "rkjW3QOB1XvA",
        "outputId": "e9b275f2-dc4f-4bbb-975e-9b9cf7fe5371"
      },
      "execution_count": 48,
      "outputs": [
        {
          "output_type": "execute_result",
          "data": {
            "text/plain": [
              "100"
            ]
          },
          "metadata": {},
          "execution_count": 48
        }
      ]
    }
  ]
}