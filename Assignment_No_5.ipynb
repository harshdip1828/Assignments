{
  "nbformat": 4,
  "nbformat_minor": 0,
  "metadata": {
    "colab": {
      "provenance": []
    },
    "kernelspec": {
      "name": "python3",
      "display_name": "Python 3"
    },
    "language_info": {
      "name": "python"
    }
  },
  "cells": [
    {
      "cell_type": "markdown",
      "source": [
        "#Problem no.1"
      ],
      "metadata": {
        "id": "msvNp4q381wM"
      }
    },
    {
      "cell_type": "code",
      "execution_count": 2,
      "metadata": {
        "colab": {
          "base_uri": "https://localhost:8080/"
        },
        "id": "Ui_sFc5O22nV",
        "outputId": "48967ac8-3394-43ae-9f21-b7c84f4ca1c5"
      },
      "outputs": [
        {
          "output_type": "stream",
          "name": "stdout",
          "text": [
            "35\n"
          ]
        }
      ],
      "source": [
        "class Point:\n",
        "    def __init__(self, x, y, z):\n",
        "        self.x = x\n",
        "        self.y = y\n",
        "        self.z = z\n",
        "    def sqSum(self):\n",
        "        return self.x ** 2 + self.y ** 2 + self.z ** 2\n",
        "point = Point(1, 3, 5)\n",
        "r = point.sqSum()\n",
        "print(r)\n"
      ]
    },
    {
      "cell_type": "markdown",
      "source": [
        "#Problem No.2"
      ],
      "metadata": {
        "id": "pnedjrq79F1s"
      }
    },
    {
      "cell_type": "code",
      "source": [
        "class Calculator:\n",
        "\n",
        "    def __init__(self,num1,num2):\n",
        "        self.num1=num1\n",
        "        self.num2=num2\n",
        "    def add(self):\n",
        "        return self.num1+self.num2\n",
        "    def subtract(self):\n",
        "      return self.num1-self.num2\n",
        "\n",
        "    def multiply(self):\n",
        "      return self.num1*self.num2\n",
        "\n",
        "    def divide(self):\n",
        "        return self.num1/self.num2\n",
        "obj = Calculator(10, 94)\n",
        "print(\"Addition of the num1 and num2: \",obj.add())\n",
        "print(\"Substraction of the num1 and num2: \",obj.subtract())\n",
        "print(\"Multiplication of the num1 and num2: \",obj.multiply())\n",
        "print(\"Division of the num1 and num2 \",obj.divide())"
      ],
      "metadata": {
        "colab": {
          "base_uri": "https://localhost:8080/"
        },
        "id": "c3RctPGK533z",
        "outputId": "0f16aec8-b5fc-4c27-cdb6-5186c2cf63dd"
      },
      "execution_count": 8,
      "outputs": [
        {
          "output_type": "stream",
          "name": "stdout",
          "text": [
            "Addition of the num1 and num2:  104\n",
            "Substraction of the num1 and num2:  -84\n",
            "Multiplication of the num1 and num2:  940\n",
            "Division of the num1 and num2  0.10638297872340426\n"
          ]
        }
      ]
    },
    {
      "cell_type": "markdown",
      "source": [
        "#Problem no.3"
      ],
      "metadata": {
        "id": "LtSviSvA9Ji-"
      }
    },
    {
      "cell_type": "code",
      "source": [
        "class Student:\n",
        "    def setName(self, name):\n",
        "        self.__name = name\n",
        "\n",
        "    def getName(self):\n",
        "        return self.__name\n",
        "\n",
        "    def setRollNumber(self, rollNumber):\n",
        "        self.__rollNumber = rollNumber\n",
        "\n",
        "    def getRollNumber(self):\n",
        "        return self.__rollNumber\n",
        "\n",
        "student = Student()\n",
        "student.setName(\"Harshdip\")\n",
        "student.setRollNumber(18)\n",
        "name = student.getName()\n",
        "roll_Number = student.getRollNumber()\n",
        "print(\"Name:\", name)\n",
        "print(\"Roll Number:\", roll_Number)\n",
        "\n"
      ],
      "metadata": {
        "colab": {
          "base_uri": "https://localhost:8080/"
        },
        "id": "mE6GCTU880YJ",
        "outputId": "eef6e54e-c743-4d38-8e6f-4a286189c5e9"
      },
      "execution_count": 15,
      "outputs": [
        {
          "output_type": "stream",
          "name": "stdout",
          "text": [
            "Name: Harshdip\n",
            "Roll Number: 18\n"
          ]
        }
      ]
    },
    {
      "cell_type": "markdown",
      "source": [
        "#Problem no.4"
      ],
      "metadata": {
        "id": "6HQHa_O89Nhp"
      }
    },
    {
      "cell_type": "code",
      "source": [
        "class Account:\n",
        "  def __init__(self,title,balance):\n",
        "      self.title = title\n",
        "      self.balance = balance\n",
        "\n",
        "class SavingsAccount(Account):\n",
        "    def __init__(self, title, balance, interestRate):\n",
        "        super().__init__(title, balance)\n",
        "        self.interestRate = interestRate\n",
        "acc = Account(\"Ashish\", 5000)\n",
        "print(\"Account Title:\", acc.title)\n",
        "print(\"Account Balance:\", acc.balance)\n",
        "\n",
        "saving_acc = SavingsAccount(\"Ashish\", 5000, 5)\n",
        "print(\"Account Title:\", saving_acc.title)\n",
        "print(\"Account Balance:\", saving_acc.balance)\n",
        "print(\"Interest Rate:\", saving_acc.interestRate)\n",
        ""
      ],
      "metadata": {
        "colab": {
          "base_uri": "https://localhost:8080/"
        },
        "id": "SckhQRX584x5",
        "outputId": "7025b02c-6bb1-4f0f-b653-596d68db0ad5"
      },
      "execution_count": 24,
      "outputs": [
        {
          "output_type": "stream",
          "name": "stdout",
          "text": [
            "Account Title: Ashish\n",
            "Account Balance: 5000\n",
            "Account Title: Ashish\n",
            "Account Balance: 5000\n",
            "Interest Rate: 5\n"
          ]
        }
      ]
    },
    {
      "cell_type": "markdown",
      "source": [
        "#Problem no.5"
      ],
      "metadata": {
        "id": "IWVyUK6N9QCR"
      }
    },
    {
      "cell_type": "code",
      "source": [
        "class Account:\n",
        "    def __init__(self, title=None, balance=0):\n",
        "        self.title = title\n",
        "        self.balance = balance\n",
        "\n",
        "    def withdrawal(self, amount):\n",
        "        self.balance -= amount\n",
        "\n",
        "\n",
        "    def deposit(self, amount):\n",
        "         self.balance += amount\n",
        "\n",
        "    def getBalance(self):\n",
        "      return self.balance\n",
        "\n",
        "\n",
        "class SavingsAccount(Account):\n",
        "    def __init__(self, title=None, balance=0, interestRate=0):\n",
        "            super().__init__(title, balance)\n",
        "            self.interestRate = interestRate\n",
        "\n",
        "    def interestAmount(self):\n",
        "       return (self.balance * self.interestRate) // 100\n",
        "\n",
        "demo1 = SavingsAccount(\"Ashish\", 2000, 5)\n",
        "# Task_No.2\n",
        "demo1.balance = 2000\n",
        "demo1.deposit(500)\n",
        "demo1.getBalance()\n"
      ],
      "metadata": {
        "colab": {
          "base_uri": "https://localhost:8080/"
        },
        "id": "cPF-Hu5UEvB8",
        "outputId": "d761af47-ead7-4c54-b7d2-515dfed38e6f"
      },
      "execution_count": 51,
      "outputs": [
        {
          "output_type": "execute_result",
          "data": {
            "text/plain": [
              "2500"
            ]
          },
          "metadata": {},
          "execution_count": 51
        }
      ]
    },
    {
      "cell_type": "code",
      "source": [
        "# Task_No.3\n",
        "demo1.balance = 2000\n",
        "demo1.withdrawal(500)\n",
        "demo1.getBalance()\n"
      ],
      "metadata": {
        "colab": {
          "base_uri": "https://localhost:8080/"
        },
        "id": "p_FYJBBmHK6y",
        "outputId": "0b5b3406-a164-4268-c655-367e7ff41086"
      },
      "execution_count": 52,
      "outputs": [
        {
          "output_type": "execute_result",
          "data": {
            "text/plain": [
              "1500"
            ]
          },
          "metadata": {},
          "execution_count": 52
        }
      ]
    },
    {
      "cell_type": "code",
      "source": [
        "# Task_No.4\n",
        "demo1.balance = 2000\n",
        "demo1.interestRate = 5\n",
        "demo1.interestAmount()"
      ],
      "metadata": {
        "colab": {
          "base_uri": "https://localhost:8080/"
        },
        "id": "g-yABTA_INaQ",
        "outputId": "66edcdca-d26a-488a-9189-0763bc3f39f0"
      },
      "execution_count": 53,
      "outputs": [
        {
          "output_type": "execute_result",
          "data": {
            "text/plain": [
              "100"
            ]
          },
          "metadata": {},
          "execution_count": 53
        }
      ]
    }
  ]
}