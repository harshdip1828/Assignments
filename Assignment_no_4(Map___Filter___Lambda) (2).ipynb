{
  "nbformat": 4,
  "nbformat_minor": 0,
  "metadata": {
    "colab": {
      "provenance": []
    },
    "kernelspec": {
      "name": "python3",
      "display_name": "Python 3"
    },
    "language_info": {
      "name": "python"
    }
  },
  "cells": [
    {
      "cell_type": "markdown",
      "source": [
        "Q.1 Write a Python program to create a lambda function that adds 25 to a given number passed in as an argument."
      ],
      "metadata": {
        "id": "Yt_4dA8FftMs"
      }
    },
    {
      "cell_type": "code",
      "source": [
        "num1 = int(input(\"Enter the number that u want to add:\"))\n",
        "add_25 = lambda x: x + 25\n",
        "result1 = add_25(num1)\n",
        "print(result1)"
      ],
      "metadata": {
        "colab": {
          "base_uri": "https://localhost:8080/"
        },
        "id": "DDExzeW4dfzU",
        "outputId": "f77ebb23-27e3-433d-b05c-cdb30ac293e6"
      },
      "execution_count": null,
      "outputs": [
        {
          "output_type": "stream",
          "name": "stdout",
          "text": [
            "Enter the number that u want to add:10\n",
            "35\n"
          ]
        }
      ]
    },
    {
      "cell_type": "markdown",
      "source": [
        "Q.2 Write a Python program to triple all numbers of a given list of integers. Use Python map."
      ],
      "metadata": {
        "id": "v7fTZ4dQgFJ_"
      }
    },
    {
      "cell_type": "code",
      "source": [
        "def triple_number(num):\n",
        "    return num * 3\n",
        "sample_list = list(map(int,input(\"Enter the list of numbers that u want :\").split(\",\")))\n",
        "tripled_numbers = list(map(triple_number, sample_list))\n",
        "print(\"Triple of list numbers:\")\n",
        "print(tripled_numbers)\n"
      ],
      "metadata": {
        "colab": {
          "base_uri": "https://localhost:8080/"
        },
        "id": "T6r_O08cgcd5",
        "outputId": "94c11d90-0302-486b-deed-0468c184852c"
      },
      "execution_count": null,
      "outputs": [
        {
          "output_type": "stream",
          "name": "stdout",
          "text": [
            "Enter the list of numbers that u want :1,2,3,4,5,6,7,8,9\n",
            "Triple of list numbers:\n",
            "[3, 6, 9, 12, 15, 18, 21, 24, 27]\n"
          ]
        }
      ]
    },
    {
      "cell_type": "markdown",
      "source": [
        "Q.3 Write a Python program to square the elements of a list using map() function."
      ],
      "metadata": {
        "id": "M27OOTa7lmrn"
      }
    },
    {
      "cell_type": "code",
      "source": [
        "def square(num):\n",
        "  return num**2\n",
        "n = list(map(int,input(\"Enter the number :\").split(\",\")))\n",
        "list(map(square,n))"
      ],
      "metadata": {
        "colab": {
          "base_uri": "https://localhost:8080/"
        },
        "id": "kjSdnXv8lpEE",
        "outputId": "f33abda2-ecdc-42b5-99f0-b6f8e240b141"
      },
      "execution_count": 3,
      "outputs": [
        {
          "name": "stdout",
          "output_type": "stream",
          "text": [
            "Enter the number :4,5,2,9\n"
          ]
        },
        {
          "output_type": "execute_result",
          "data": {
            "text/plain": [
              "[16, 25, 4, 81]"
            ]
          },
          "metadata": {},
          "execution_count": 3
        }
      ]
    },
    {
      "cell_type": "markdown",
      "source": [
        "# OR"
      ],
      "metadata": {
        "id": "JybFFp_5oLhQ"
      }
    },
    {
      "cell_type": "code",
      "source": [
        "def square_number(num):\n",
        "    return num ** 2\n",
        "sample_list = list(map(int,input('Enter the number :').split(\",\")))\n",
        "squared_numbers = list(map(square_number, sample_list))\n",
        "print(\"Square of list numbers:\",squared_numbers)\n",
        "\n"
      ],
      "metadata": {
        "colab": {
          "base_uri": "https://localhost:8080/"
        },
        "id": "sBOpF7V4mTdB",
        "outputId": "5f21385f-eaab-4938-c612-e64db6d0fe38"
      },
      "execution_count": 2,
      "outputs": [
        {
          "output_type": "stream",
          "name": "stdout",
          "text": [
            "Enter the number :4,5,2,9\n",
            "Square of list numbers: [16, 25, 4, 81]\n"
          ]
        }
      ]
    }
  ]
}