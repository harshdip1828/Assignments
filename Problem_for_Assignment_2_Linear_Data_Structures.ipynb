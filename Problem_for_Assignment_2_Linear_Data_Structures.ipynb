{
  "nbformat": 4,
  "nbformat_minor": 0,
  "metadata": {
    "colab": {
      "provenance": []
    },
    "kernelspec": {
      "name": "python3",
      "display_name": "Python 3"
    },
    "language_info": {
      "name": "python"
    }
  },
  "cells": [
    {
      "cell_type": "markdown",
      "source": [
        "Q.1 Delete the elements in an linked list whose sum is equal to zero"
      ],
      "metadata": {
        "id": "meGvZYYA2q-J"
      }
    },
    {
      "cell_type": "code",
      "execution_count": null,
      "metadata": {
        "colab": {
          "base_uri": "https://localhost:8080/"
        },
        "id": "MOeK9gZW-Pud",
        "outputId": "a0daf034-438a-4816-f33d-4465d559cff8"
      },
      "outputs": [
        {
          "output_type": "stream",
          "name": "stdout",
          "text": [
            "Enter the number of elements: 3\n",
            "Enter the elements:\n",
            "0\n",
            "1\n",
            "2\n",
            "Linked List before deleting zero-sum elements:\n",
            "0 -> 1 -> 2 -> None\n",
            "Linked List after deleting zero-sum elements:\n",
            "1 -> 2 -> None\n"
          ]
        }
      ],
      "source": [
        "class Node:\n",
        "    def __init__(self, data):\n",
        "        self.data = data\n",
        "        self.next = None\n",
        "\n",
        "class LinkedList:\n",
        "    def __init__(self):\n",
        "        self.head = None\n",
        "\n",
        "    def append(self, data):\n",
        "        new_node = Node(data)\n",
        "        if not self.head:\n",
        "            self.head = new_node\n",
        "        else:\n",
        "            current = self.head\n",
        "            while current.next:\n",
        "                current = current.next\n",
        "            current.next = new_node\n",
        "\n",
        "    def display(self):\n",
        "        current = self.head\n",
        "        while current:\n",
        "            print(current.data, end=\" -> \")\n",
        "            current = current.next\n",
        "        print(\"None\")\n",
        "\n",
        "    def delete_elements_with_zero_sum(self):\n",
        "        current = self.head\n",
        "        while current:\n",
        "            sum_value = 0\n",
        "            temp = current\n",
        "            while temp:\n",
        "                sum_value += temp.data\n",
        "                temp = temp.next\n",
        "                if sum_value == 0:\n",
        "                    self.head = current.next\n",
        "                    current = self.head\n",
        "                    break\n",
        "            if sum_value != 0:\n",
        "                current = current.next\n",
        "\n",
        "def take_input_and_delete_zero_sum_elements():\n",
        "    linked_list = LinkedList()\n",
        "\n",
        "    n = int(input(\"Enter the number of elements: \"))\n",
        "    print(\"Enter the elements:\")\n",
        "    for _ in range(n):\n",
        "        data = int(input())\n",
        "        linked_list.append(data)\n",
        "\n",
        "    print(\"Linked List before deleting zero-sum elements:\")\n",
        "    linked_list.display()\n",
        "\n",
        "    linked_list.delete_elements_with_zero_sum()\n",
        "\n",
        "    print(\"Linked List after deleting zero-sum elements:\")\n",
        "    linked_list.display()\n",
        "\n",
        "if __name__ == \"__main__\":\n",
        "    take_input_and_delete_zero_sum_elements()\n"
      ]
    },
    {
      "cell_type": "markdown",
      "source": [
        "Q.2 Reverse a linked list in groups of given size"
      ],
      "metadata": {
        "id": "m_uv5BJi2vcb"
      }
    },
    {
      "cell_type": "code",
      "source": [
        "class Node:\n",
        "    def __init__(self, data):\n",
        "        self.data = data\n",
        "        self.next = None\n",
        "\n",
        "class LinkedList:\n",
        "    def __init__(self):\n",
        "        self.head = None\n",
        "\n",
        "    def append(self, data):\n",
        "        new_node = Node(data)\n",
        "        if not self.head:\n",
        "            self.head = new_node\n",
        "        else:\n",
        "            current = self.head\n",
        "            while current.next:\n",
        "                current = current.next\n",
        "            current.next = new_node\n",
        "\n",
        "    def display(self):\n",
        "        current = self.head\n",
        "        while current:\n",
        "            print(current.data, end=\" -> \")\n",
        "            current = current.next\n",
        "        print(\"None\")\n",
        "\n",
        "    def reverse_in_groups(self, k):\n",
        "        def reverse(head, k):\n",
        "            prev = None\n",
        "            current = head\n",
        "            count = 0\n",
        "\n",
        "\n",
        "            while current is not None and count < k:\n",
        "                next_node = current.next\n",
        "                current.next = prev\n",
        "                prev = current\n",
        "                current = next_node\n",
        "                count += 1\n",
        "\n",
        "\n",
        "            if next_node is not None:\n",
        "                head.next = reverse(next_node, k)\n",
        "\n",
        "            return prev\n",
        "\n",
        "        self.head = reverse(self.head, k)\n",
        "\n",
        "def take_input_and_reverse_in_groups():\n",
        "    linked_list = LinkedList()\n",
        "\n",
        "    n = int(input(\"Enter the number of elements: \"))\n",
        "    print(\"Enter the elements:\")\n",
        "    for _ in range(n):\n",
        "        data = int(input())\n",
        "        linked_list.append(data)\n",
        "\n",
        "    k = int(input(\"Enter the group size for reversal: \"))\n",
        "\n",
        "    print(\"Linked List before reversing in groups:\")\n",
        "    linked_list.display()\n",
        "\n",
        "    linked_list.reverse_in_groups(k)\n",
        "\n",
        "    print(\"Linked List after reversing in groups:\")\n",
        "    linked_list.display()\n",
        "\n",
        "if __name__ == \"__main__\":\n",
        "    take_input_and_reverse_in_groups()\n"
      ],
      "metadata": {
        "colab": {
          "base_uri": "https://localhost:8080/"
        },
        "id": "NPwASm2X-mSf",
        "outputId": "5406ad85-6783-4185-de53-0244e831eeae"
      },
      "execution_count": null,
      "outputs": [
        {
          "output_type": "stream",
          "name": "stdout",
          "text": [
            "Enter the number of elements: 5\n",
            "Enter the elements:\n",
            "1\n",
            "2\n",
            "3\n",
            "4\n",
            "5\n",
            "Enter the group size for reversal: 4\n",
            "Linked List before reversing in groups:\n",
            "1 -> 2 -> 3 -> 4 -> 5 -> None\n",
            "Linked List after reversing in groups:\n",
            "4 -> 3 -> 2 -> 1 -> 5 -> None\n"
          ]
        }
      ]
    },
    {
      "cell_type": "markdown",
      "source": [
        "Q.3 Merge a linked list into another linked list at alternate positions"
      ],
      "metadata": {
        "id": "K1VKiG6u2234"
      }
    },
    {
      "cell_type": "code",
      "source": [
        "class Node:\n",
        "    def __init__(self, data):\n",
        "        self.data = data\n",
        "        self.next = None\n",
        "\n",
        "class LinkedList:\n",
        "    def __init__(self):\n",
        "        self.head = None\n",
        "\n",
        "    def append(self, data):\n",
        "        new_node = Node(data)\n",
        "        if not self.head:\n",
        "            self.head = new_node\n",
        "        else:\n",
        "            current = self.head\n",
        "            while current.next:\n",
        "                current = current.next\n",
        "            current.next = new_node\n",
        "\n",
        "    def display(self):\n",
        "        current = self.head\n",
        "        while current:\n",
        "            print(current.data, end=\" -> \")\n",
        "            current = current.next\n",
        "        print(\"None\")\n",
        "\n",
        "def merge_alternate_positions(list1, list2):\n",
        "    merged_list = LinkedList()\n",
        "    current1, current2 = list1.head, list2.head\n",
        "\n",
        "    while current1 or current2:\n",
        "        if current1:\n",
        "            merged_list.append(current1.data)\n",
        "            current1 = current1.next\n",
        "        if current2:\n",
        "            merged_list.append(current2.data)\n",
        "            current2 = current2.next\n",
        "\n",
        "    return merged_list\n",
        "\n",
        "def take_input_and_merge_alternate_positions():\n",
        "    list1 = LinkedList()\n",
        "    list2 = LinkedList()\n",
        "\n",
        "    n = int(input(\"Enter the number of elements for the first list: \"))\n",
        "    print(\"Enter the elements for the first list:\")\n",
        "    for _ in range(n):\n",
        "        data = int(input())\n",
        "        list1.append(data)\n",
        "\n",
        "    m = int(input(\"Enter the number of elements for the second list: \"))\n",
        "    print(\"Enter the elements for the second list:\")\n",
        "    for _ in range(m):\n",
        "        data = int(input())\n",
        "        list2.append(data)\n",
        "\n",
        "    merged_list = merge_alternate_positions(list1, list2)\n",
        "\n",
        "    print(\"First List:\")\n",
        "    list1.display()\n",
        "\n",
        "    print(\"Second List:\")\n",
        "    list2.display()\n",
        "\n",
        "    print(\"Merged List at Alternate Positions:\")\n",
        "    merged_list.display()\n",
        "\n",
        "if __name__ == \"__main__\":\n",
        "    take_input_and_merge_alternate_positions()\n"
      ],
      "metadata": {
        "colab": {
          "base_uri": "https://localhost:8080/"
        },
        "id": "ullcs6Qq_SaN",
        "outputId": "580b696b-5e62-427c-9695-030ee010d9df"
      },
      "execution_count": null,
      "outputs": [
        {
          "output_type": "stream",
          "name": "stdout",
          "text": [
            "Enter the number of elements for the first list: 3\n",
            "Enter the elements for the first list:\n",
            "1\n",
            "2\n",
            "4\n",
            "Enter the number of elements for the second list: 2\n",
            "Enter the elements for the second list:\n",
            "1\n",
            "2\n",
            "First List:\n",
            "1 -> 2 -> 4 -> None\n",
            "Second List:\n",
            "1 -> 2 -> None\n",
            "Merged List at Alternate Positions:\n",
            "1 -> 1 -> 2 -> 2 -> 4 -> None\n"
          ]
        }
      ]
    },
    {
      "cell_type": "markdown",
      "source": [
        "Q.4 In an array, Count Pairs with given sum"
      ],
      "metadata": {
        "id": "akwa2p7W28yY"
      }
    },
    {
      "cell_type": "code",
      "source": [
        "def count_pairs_with_sum(arr, target_sum):\n",
        "    count = 0\n",
        "    num_dict = {}\n",
        "\n",
        "    for num in arr:\n",
        "        complement = target_sum - num\n",
        "        if complement in num_dict:\n",
        "            count += num_dict[complement]\n",
        "        if num in num_dict:\n",
        "            num_dict[num] += 1\n",
        "        else:\n",
        "            num_dict[num] = 1\n",
        "\n",
        "    return count\n",
        "\n",
        "def take_input_and_count_pairs():\n",
        "    arr = []\n",
        "    n = int(input(\"Enter the number of elements in the array: \"))\n",
        "    print(\"Enter the elements of the array:\")\n",
        "    for i in range(n):\n",
        "        element = int(input())\n",
        "        arr.append(element)\n",
        "\n",
        "    target_sum = int(input(\"Enter the target sum: \"))\n",
        "\n",
        "    result = count_pairs_with_sum(arr, target_sum)\n",
        "\n",
        "    print(f\"Number of pairs with sum {target_sum} is {result}\")\n",
        "\n",
        "if __name__ == \"__main__\":\n",
        "    take_input_and_count_pairs()\n"
      ],
      "metadata": {
        "colab": {
          "base_uri": "https://localhost:8080/"
        },
        "id": "2UKXrcdG_3a-",
        "outputId": "9fb98f51-a9fd-482e-bde9-0585a817b335"
      },
      "execution_count": null,
      "outputs": [
        {
          "output_type": "stream",
          "name": "stdout",
          "text": [
            "Enter the number of elements in the array: 4\n",
            "Enter the elements of the array:\n",
            "2\n",
            "2\n",
            "1\n",
            "3\n",
            "Enter the target sum: 4\n",
            "Number of pairs with sum 4 is 2\n"
          ]
        }
      ]
    },
    {
      "cell_type": "markdown",
      "source": [
        "Q.5 Find duplicates in an array"
      ],
      "metadata": {
        "id": "UX9ULY8B3gG0"
      }
    },
    {
      "cell_type": "code",
      "source": [
        "def find_duplicates(arr):\n",
        "    seen = set()\n",
        "    duplicates = set()\n",
        "\n",
        "    for num in arr:\n",
        "        if num in seen:\n",
        "            duplicates.add(num)\n",
        "        else:\n",
        "            seen.add(num)\n",
        "\n",
        "    return list(duplicates)\n",
        "\n",
        "def take_input_and_find_duplicates():\n",
        "    arr = []\n",
        "    n = int(input(\"Enter the number of elements in the array: \"))\n",
        "    print(\"Enter the elements of the array:\")\n",
        "    for i in range(n):\n",
        "        element = int(input())\n",
        "        arr.append(element)\n",
        "\n",
        "    duplicate_elements = find_duplicates(arr)\n",
        "\n",
        "    if not duplicate_elements:\n",
        "        print(\"No duplicates found in the array.\")\n",
        "    else:\n",
        "        print(\"Duplicates in the array:\", duplicate_elements)\n",
        "\n",
        "if __name__ == \"__main__\":\n",
        "    take_input_and_find_duplicates()\n"
      ],
      "metadata": {
        "colab": {
          "base_uri": "https://localhost:8080/"
        },
        "id": "1PQtbbwQAR0F",
        "outputId": "34fe3105-9d2d-495a-d944-7263674e995f"
      },
      "execution_count": null,
      "outputs": [
        {
          "output_type": "stream",
          "name": "stdout",
          "text": [
            "Enter the number of elements in the array: 5\n",
            "Enter the elements of the array:\n",
            "1\n",
            "2\n",
            "3\n",
            "4\n",
            "1\n",
            "Duplicates in the array: [1]\n"
          ]
        }
      ]
    },
    {
      "cell_type": "markdown",
      "source": [
        "Q.7 Move all the negative elements to one side of the array\n",
        "\n",
        "\n"
      ],
      "metadata": {
        "id": "3DU6iSKs3zyv"
      }
    },
    {
      "cell_type": "code",
      "source": [
        "def move_negatives_to_one_side(arr):\n",
        "    n = len(arr)\n",
        "    left, right = 0, n - 1\n",
        "\n",
        "    while left <= right:\n",
        "        if arr[left] < 0 and arr[right] < 0:\n",
        "            left += 1\n",
        "        elif arr[left] >= 0 and arr[right] < 0:\n",
        "            arr[left], arr[right] = arr[right], arr[left]\n",
        "            left += 1\n",
        "            right -= 1\n",
        "        elif arr[left] >= 0 and arr[right] >= 0:\n",
        "            right -= 1\n",
        "        else:\n",
        "            left += 1\n",
        "            right -= 1\n",
        "\n",
        "def take_input_and_move_negatives():\n",
        "    arr = []\n",
        "    n = int(input(\"Enter the number of elements in the array: \"))\n",
        "    print(\"Enter the elements of the array:\")\n",
        "    for i in range(n):\n",
        "        element = int(input())\n",
        "        arr.append(element)\n",
        "\n",
        "    move_negatives_to_one_side(arr)\n",
        "\n",
        "    print(\"Array after moving negatives to one side:\", arr)\n",
        "\n",
        "if __name__ == \"__main__\":\n",
        "    take_input_and_move_negatives()\n"
      ],
      "metadata": {
        "colab": {
          "base_uri": "https://localhost:8080/"
        },
        "id": "RXSjyhbaDD23",
        "outputId": "a51e3018-23c5-4551-d5e3-d6b302237cda"
      },
      "execution_count": null,
      "outputs": [
        {
          "output_type": "stream",
          "name": "stdout",
          "text": [
            "Enter the number of elements in the array: 4\n",
            "Enter the elements of the array:\n",
            "-1\n",
            "2\n",
            "-3\n",
            "4\n",
            "Array after moving negatives to one side: [-1, -3, 2, 4]\n"
          ]
        }
      ]
    },
    {
      "cell_type": "markdown",
      "source": [
        "Q.8 Reverse a string using a stack data structure"
      ],
      "metadata": {
        "id": "h9uXmUbV4CaR"
      }
    },
    {
      "cell_type": "code",
      "source": [
        "class Stack:\n",
        "    def __init__(self):\n",
        "        self.items = []\n",
        "\n",
        "    def is_empty(self):\n",
        "        return len(self.items) == 0\n",
        "\n",
        "    def push(self, item):\n",
        "        self.items.append(item)\n",
        "\n",
        "    def pop(self):\n",
        "        if not self.is_empty():\n",
        "            return self.items.pop()\n",
        "\n",
        "def reverse_string_using_stack(input_string):\n",
        "    stack = Stack()\n",
        "\n",
        "    for char in input_string:\n",
        "        stack.push(char)\n",
        "\n",
        "    reversed_string = \"\"\n",
        "\n",
        "    while not stack.is_empty():\n",
        "        reversed_string += stack.pop()\n",
        "\n",
        "    return reversed_string\n",
        "\n",
        "def take_input_and_reverse_string():\n",
        "    input_string = input(\"Enter a string: \")\n",
        "    reversed_string = reverse_string_using_stack(input_string)\n",
        "    print(\"Reversed string:\", reversed_string)\n",
        "\n",
        "if __name__ == \"__main__\":\n",
        "    take_input_and_reverse_string()\n"
      ],
      "metadata": {
        "colab": {
          "base_uri": "https://localhost:8080/"
        },
        "id": "byRgCYfzDLIH",
        "outputId": "6b02adee-3983-43a0-e58e-868b2d188c9e"
      },
      "execution_count": null,
      "outputs": [
        {
          "output_type": "stream",
          "name": "stdout",
          "text": [
            "Enter a string: stacK\n",
            "Reversed string: Kcats\n"
          ]
        }
      ]
    },
    {
      "cell_type": "markdown",
      "source": [
        "Q.9 Evaluate a postfix expression using stack"
      ],
      "metadata": {
        "id": "eQy3QfiZ4K4k"
      }
    },
    {
      "cell_type": "code",
      "source": [
        "class Evaluate:\n",
        "\n",
        "\n",
        "\tdef __init__(self, capacity):\n",
        "\t\tself.top = -1\n",
        "\t\tself.capacity = capacity\n",
        "\n",
        "\n",
        "\t\tself.array = []\n",
        "\n",
        "\n",
        "\tdef isEmpty(self):\n",
        "\t\treturn True if self.top == -1 else False\n",
        "\n",
        "\n",
        "\tdef peek(self):\n",
        "\t\treturn self.array[-1]\n",
        "\n",
        "\n",
        "\tdef pop(self):\n",
        "\t\tif not self.isEmpty():\n",
        "\t\t\tself.top -= 1\n",
        "\t\t\treturn self.array.pop()\n",
        "\t\telse:\n",
        "\t\t\treturn \"$\"\n",
        "\n",
        "\n",
        "\tdef push(self, op):\n",
        "\t\tself.top += 1\n",
        "\t\tself.array.append(op)\n",
        "\n",
        "\n",
        "\tdef evaluatePostfix(self, exp):\n",
        "\n",
        "\n",
        "\t\tfor i in exp:\n",
        "\n",
        "\n",
        "\t\t\tif i.isdigit():\n",
        "\t\t\t\tself.push(i)\n",
        "\n",
        "\n",
        "\t\t\telse:\n",
        "\t\t\t\tval1 = self.pop()\n",
        "\t\t\t\tval2 = self.pop()\n",
        "\t\t\t\tself.push(str(eval(val2 + i + val1)))\n",
        "\n",
        "\t\treturn int(self.pop())\n",
        "\n",
        "\n",
        "\n",
        "\n",
        "if __name__ == '__main__':\n",
        "\texp = input(\"Enter the Expression : \")\n",
        "\tobj = Evaluate(len(exp))\n",
        "\n",
        "\n",
        "\tprint(\"postfix evaluation: %d\" % (obj.evaluatePostfix(exp)))"
      ],
      "metadata": {
        "colab": {
          "base_uri": "https://localhost:8080/"
        },
        "id": "Y9XnhEl_6BE9",
        "outputId": "f1c8ed41-f291-4421-917d-e4596c645cbc"
      },
      "execution_count": null,
      "outputs": [
        {
          "output_type": "stream",
          "name": "stdout",
          "text": [
            "Enter the Expression : 231*+9-\n",
            "postfix evaluation: -4\n"
          ]
        }
      ]
    },
    {
      "cell_type": "markdown",
      "source": [
        "Q.6 Find the Kth largest and Kth smallest number in an array"
      ],
      "metadata": {
        "id": "O-yXzN1z5EyK"
      }
    },
    {
      "cell_type": "code",
      "source": [
        "class KthMinMaxFinder:\n",
        "    def __init__(self, arr):\n",
        "        self.arr = arr\n",
        "\n",
        "    def find_kth_max(self, k):\n",
        "        sorted_arr = sorted(self.arr, reverse=True)\n",
        "        if 0 < k <= len(sorted_arr):\n",
        "            return sorted_arr[k - 1]\n",
        "        else:\n",
        "            return None\n",
        "\n",
        "    def find_kth_min(self, k):\n",
        "        sorted_arr = sorted(self.arr)\n",
        "        if 0 < k <= len(sorted_arr):\n",
        "            return sorted_arr[k - 1]\n",
        "        else:\n",
        "            return None\n",
        "\n",
        "if __name__ == \"__main__\":\n",
        "    array = list(map(int, input(\"Enter the array: \").split(\",\")))\n",
        "    k = int(input(\"Enter k: \"))\n",
        "\n",
        "    kth_min_max_finder = KthMinMaxFinder(array)\n",
        "\n",
        "    kth_max = kth_min_max_finder.find_kth_max(k)\n",
        "    kth_min = kth_min_max_finder.find_kth_min(k)\n",
        "\n",
        "    if kth_max is not None:\n",
        "        print(f\"Kth maximum element is: {kth_max}\")\n",
        "    else:\n",
        "        print(\"Invalid value of k for finding the maximum element.\")\n",
        "\n",
        "    if kth_min is not None:\n",
        "        print(f\"Kth minimum element is: {kth_min}\")\n",
        "    else:\n",
        "        print(\"Invalid value of k for finding the minimum element.\")\n"
      ],
      "metadata": {
        "colab": {
          "base_uri": "https://localhost:8080/"
        },
        "id": "H5C6l1XO4N7J",
        "outputId": "1b805bd3-4a40-414c-aca1-c7f4e601e475"
      },
      "execution_count": null,
      "outputs": [
        {
          "output_type": "stream",
          "name": "stdout",
          "text": [
            "Enter the array: 2,4,5,7,1\n",
            "Enter k: 1\n",
            "Kth maximum element is: 7\n",
            "Kth minimum element is: 1\n"
          ]
        }
      ]
    },
    {
      "cell_type": "markdown",
      "source": [
        "Q.10 Implement a queue using the stack data structure"
      ],
      "metadata": {
        "id": "ckxAA6nl4GSN"
      }
    },
    {
      "cell_type": "code",
      "source": [
        "class QueueUsingStacks:\n",
        "    def __init__(self):\n",
        "        self.input_stack = []\n",
        "        self.output_stack = []\n",
        "\n",
        "    def is_empty(self):\n",
        "        return len(self.input_stack) == 0 and len(self.output_stack) == 0\n",
        "\n",
        "    def enqueue(self, item):\n",
        "        self.input_stack.append(item)\n",
        "\n",
        "    def dequeue(self):\n",
        "        if not self.output_stack:\n",
        "            while self.input_stack:\n",
        "                self.output_stack.append(self.input_stack.pop())\n",
        "\n",
        "        if self.output_stack:\n",
        "            return self.output_stack.pop()\n",
        "        else:\n",
        "            return None\n",
        "\n",
        "def take_input_and_operate_queue():\n",
        "    queue = QueueUsingStacks()\n",
        "\n",
        "    while True:\n",
        "        print(\"Queue Operations:\")\n",
        "        print(\"1. Enqueue\")\n",
        "        print(\"2. Dequeue\")\n",
        "        print(\"3. Quit\")\n",
        "        choice = int(input(\"Enter your choice: \"))\n",
        "\n",
        "        if choice == 1:\n",
        "            item = input(\"Enter the element to enqueue: \")\n",
        "            queue.enqueue(item)\n",
        "            print(f\"{item} enqueued.\")\n",
        "        elif choice == 2:\n",
        "            if not queue.is_empty():\n",
        "                item = queue.dequeue()\n",
        "                print(f\"{item} dequeued.\")\n",
        "            else:\n",
        "                print(\"Queue is empty.\")\n",
        "        elif choice == 3:\n",
        "            break\n",
        "        else:\n",
        "            print(\"Invalid choice. Please try again.\")\n",
        "\n",
        "if __name__ == \"__main__\":\n",
        "    take_input_and_operate_queue()\n"
      ],
      "metadata": {
        "colab": {
          "base_uri": "https://localhost:8080/"
        },
        "id": "QkmAlVUnFU1f",
        "outputId": "11f67ac8-693e-4d0d-e939-45d7d91fe2ed"
      },
      "execution_count": null,
      "outputs": [
        {
          "name": "stdout",
          "output_type": "stream",
          "text": [
            "Queue Operations:\n",
            "1. Enqueue\n",
            "2. Dequeue\n",
            "3. Quit\n",
            "Enter your choice: 1\n",
            "Enter the element to enqueue: 1 2 3 4\n",
            "1 2 3 4 enqueued.\n",
            "Queue Operations:\n",
            "1. Enqueue\n",
            "2. Dequeue\n",
            "3. Quit\n",
            "Enter your choice: 2\n",
            "1 2 3 4 dequeued.\n",
            "Queue Operations:\n",
            "1. Enqueue\n",
            "2. Dequeue\n",
            "3. Quit\n",
            "Enter your choice: 3\n"
          ]
        }
      ]
    }
  ]
}