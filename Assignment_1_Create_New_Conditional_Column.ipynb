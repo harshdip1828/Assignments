{
  "nbformat": 4,
  "nbformat_minor": 0,
  "metadata": {
    "colab": {
      "provenance": []
    },
    "kernelspec": {
      "name": "python3",
      "display_name": "Python 3"
    },
    "language_info": {
      "name": "python"
    }
  },
  "cells": [
    {
      "cell_type": "code",
      "source": [
        "import pandas as pd\n",
        "\n",
        "data = {'sales': [100, 200, 300, 400],\n",
        "        'profit': [10, 20, 30, 40],\n",
        "        'ship_mode': ['Same_Day', 'First_Class', 'Standard_Class', 'Others']}\n",
        "\n",
        "df = pd.DataFrame(data)\n",
        "\n",
        "def calculate_total_cost(row):\n",
        "    if row['ship_mode'] == \"Same_Day\":\n",
        "        surcharge = 0.2\n",
        "    elif row['ship_mode'] == \"First_Class\":\n",
        "        surcharge = 0.1\n",
        "    elif row['ship_mode'] == \"Standard_Class\":\n",
        "        surcharge = 0.5\n",
        "    else:\n",
        "        surcharge = 0\n",
        "\n",
        "    return (row['sales'] - row['profit']) * (1 + surcharge)\n",
        "\n",
        "df['Total_Cost'] = df.apply(calculate_total_cost, axis=1)\n",
        "\n",
        "print(df)\n",
        "\n"
      ],
      "metadata": {
        "colab": {
          "base_uri": "https://localhost:8080/"
        },
        "id": "MOnRwEpsjpCb",
        "outputId": "f27eb4d9-4b96-4ed9-8624-bda1803ceabf"
      },
      "execution_count": 11,
      "outputs": [
        {
          "output_type": "stream",
          "name": "stdout",
          "text": [
            "   sales  profit       ship_mode  Total_Cost\n",
            "0    100      10        Same_Day       108.0\n",
            "1    200      20     First_Class       198.0\n",
            "2    300      30  Standard_Class       405.0\n",
            "3    400      40          Others       360.0\n"
          ]
        }
      ]
    }
  ]
}