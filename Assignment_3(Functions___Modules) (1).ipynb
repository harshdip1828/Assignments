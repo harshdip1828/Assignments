{
  "nbformat": 4,
  "nbformat_minor": 0,
  "metadata": {
    "colab": {
      "provenance": []
    },
    "kernelspec": {
      "name": "python3",
      "display_name": "Python 3"
    },
    "language_info": {
      "name": "python"
    }
  },
  "cells": [
    {
      "cell_type": "markdown",
      "source": [
        " #Q1 Write a Python function to sum all the numbers in a list."
      ],
      "metadata": {
        "id": "qwfyIEjGvel1"
      }
    },
    {
      "cell_type": "code",
      "execution_count": null,
      "metadata": {
        "colab": {
          "base_uri": "https://localhost:8080/"
        },
        "id": "bqJVWydfutKl",
        "outputId": "d947912e-1d4a-4d9e-cba4-8725b09e4eff"
      },
      "outputs": [
        {
          "output_type": "stream",
          "name": "stdout",
          "text": [
            "Enter a list of numbers separated by , : 8,2,3,0,7\n",
            "The sum of the numbers is: 20\n"
          ]
        }
      ],
      "source": [
        "def sum_numbers():\n",
        "    input_string = input(\"Enter a list of numbers separated by , : \").split(\",\")\n",
        "    numbers = [int(num) for num in input_string]\n",
        "    total_sum = sum(numbers)\n",
        "    return total_sum\n",
        "result = sum_numbers()\n",
        "print(\"The sum of the numbers is:\", result)\n"
      ]
    },
    {
      "cell_type": "markdown",
      "source": [
        "# OR"
      ],
      "metadata": {
        "id": "QAyfeaktAJeI"
      }
    },
    {
      "cell_type": "code",
      "source": [
        "def sum_l(num):\n",
        "  total = 0\n",
        "  for num in num:\n",
        "    total+=num\n",
        "  return total\n",
        "sample_list=list(map(int,input(\"Enter the elements :\").split(\",\")))\n",
        "print(type(sample_list))\n",
        "result = sum_l(sample_list)\n",
        "print(result)"
      ],
      "metadata": {
        "colab": {
          "base_uri": "https://localhost:8080/"
        },
        "id": "ELIlL9X1_FVR",
        "outputId": "11b1c58d-c988-44fa-fa07-6711066aa570"
      },
      "execution_count": 13,
      "outputs": [
        {
          "output_type": "stream",
          "name": "stdout",
          "text": [
            "Enter the elements :8,2,3,0,7\n",
            "<class 'list'>\n",
            "20\n"
          ]
        }
      ]
    },
    {
      "cell_type": "markdown",
      "source": [
        "#Q2 Write a Python program to reverse a string"
      ],
      "metadata": {
        "id": "UXvmDiNPxQ0t"
      }
    },
    {
      "cell_type": "code",
      "source": [
        "def reverse_string(input_string):\n",
        "    reversed_string = \"\"\n",
        "    for char in input_string:\n",
        "        reversed_string = char + reversed_string\n",
        "    return reversed_string\n",
        "def main():\n",
        "\n",
        "    user_input = input(\"Enter a string: \")\n",
        "    reversed_input = reverse_string(user_input)\n",
        "    print(\"Reversed string:\", reversed_input)\n",
        "main()\n"
      ],
      "metadata": {
        "colab": {
          "base_uri": "https://localhost:8080/"
        },
        "id": "HuEiJfi5w9k3",
        "outputId": "d06200ea-f09a-423d-f4ad-59b543f5a432"
      },
      "execution_count": null,
      "outputs": [
        {
          "output_type": "stream",
          "name": "stdout",
          "text": [
            "Enter a string: 1234abcd\n",
            "Reversed string: dcba4321\n"
          ]
        }
      ]
    },
    {
      "cell_type": "markdown",
      "source": [
        "#OR"
      ],
      "metadata": {
        "id": "_ejtiFy9DC3O"
      }
    },
    {
      "cell_type": "code",
      "source": [
        "def rev(str1):\n",
        "  return str1[::-1]\n",
        "str1 = input(\"enter the string :\")\n",
        "print(str1)\n"
      ],
      "metadata": {
        "colab": {
          "base_uri": "https://localhost:8080/"
        },
        "id": "3eULnpXrBSbg",
        "outputId": "c1b1b13f-e37b-486c-93c8-824a613d9c8b"
      },
      "execution_count": null,
      "outputs": [
        {
          "output_type": "stream",
          "name": "stdout",
          "text": [
            "enter the string :1234abcd\n",
            "1234abcd\n"
          ]
        }
      ]
    },
    {
      "cell_type": "markdown",
      "source": [
        "# Q3 Write a Python function that accepts a string and calculate the number of upper case letters and lower case letters.\n",
        "\n"
      ],
      "metadata": {
        "id": "AMxpbKiZyElK"
      }
    },
    {
      "cell_type": "code",
      "source": [
        "def count_upper_lower(input_string):\n",
        "    uppercase_count = 0\n",
        "    lowercase_count = 0\n",
        "\n",
        "    for char in input_string:\n",
        "        if char.isupper():\n",
        "            uppercase_count += 1\n",
        "        elif char.islower():\n",
        "            lowercase_count += 1\n",
        "\n",
        "    return uppercase_count, lowercase_count\n",
        "\n",
        "def main():\n",
        "\n",
        "    user_input = input(\"Enter a string: \")\n",
        "    upper_count, lower_count = count_upper_lower(user_input)\n",
        "    print(\"Number of uppercase letters:\", upper_count)\n",
        "    print(\"Number of lowercase letters:\", lower_count)\n",
        "\n",
        "\n",
        "main()\n"
      ],
      "metadata": {
        "colab": {
          "base_uri": "https://localhost:8080/"
        },
        "id": "zQNgzAeMxm5_",
        "outputId": "ec4d3282-94d1-4667-cd6e-7fa651a31c00"
      },
      "execution_count": null,
      "outputs": [
        {
          "output_type": "stream",
          "name": "stdout",
          "text": [
            "Enter a string: The quick Brow Fox\n",
            "Number of uppercase letters: 3\n",
            "Number of lowercase letters: 12\n"
          ]
        }
      ]
    }
  ]
}