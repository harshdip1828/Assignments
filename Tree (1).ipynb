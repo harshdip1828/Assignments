{
  "nbformat": 4,
  "nbformat_minor": 0,
  "metadata": {
    "colab": {
      "provenance": []
    },
    "kernelspec": {
      "name": "python3",
      "display_name": "Python 3"
    },
    "language_info": {
      "name": "python"
    }
  },
  "cells": [
    {
      "cell_type": "markdown",
      "source": [
        "Implement Binary tree"
      ],
      "metadata": {
        "id": "7C74D0OQEu1M"
      }
    },
    {
      "cell_type": "code",
      "execution_count": null,
      "metadata": {
        "colab": {
          "base_uri": "https://localhost:8080/"
        },
        "id": "y47_Y_fxEncZ",
        "outputId": "8f10f525-564b-4c38-bce1-6ae2ea050f09"
      },
      "outputs": [
        {
          "output_type": "stream",
          "name": "stdout",
          "text": [
            "Enter values to insert into the binary tree: 3,2,5,1,4,6,7,\n",
            "Skipping '' as it is not a valid integer.\n",
            "Inorder Traversal:\n",
            "1 2 3 4 5 6 7 "
          ]
        }
      ],
      "source": [
        "class TreeNode:\n",
        "    def __init__(self, data):\n",
        "        self.data = data\n",
        "        self.left = None\n",
        "        self.right = None\n",
        "\n",
        "class BinaryTree:\n",
        "    def __init__(self):\n",
        "        self.root = None\n",
        "\n",
        "    def insert(self, data):\n",
        "        if self.root is None:\n",
        "            self.root = TreeNode(data)\n",
        "        else:\n",
        "            self._insert_recursive(self.root, data)\n",
        "\n",
        "    def _insert_recursive(self, node, data):\n",
        "        if data < node.data:\n",
        "            if node.left is None:\n",
        "                node.left = TreeNode(data)\n",
        "            else:\n",
        "                self._insert_recursive(node.left, data)\n",
        "        else:\n",
        "            if node.right is None:\n",
        "                node.right = TreeNode(data)\n",
        "            else:\n",
        "                self._insert_recursive(node.right, data)\n",
        "\n",
        "    def inorder_traversal(self, node):\n",
        "        if node:\n",
        "            self.inorder_traversal(node.left)\n",
        "            print(node.data, end=' ')\n",
        "            self.inorder_traversal(node.right)\n",
        "\n",
        "def take_user_input():\n",
        "    binary_tree = BinaryTree()\n",
        "    values = input(\"Enter values to insert into the binary tree: \").split(\",\")\n",
        "    for value in values:\n",
        "        try:\n",
        "            data = int(value)\n",
        "            binary_tree.insert(data)\n",
        "        except ValueError:\n",
        "            print(f\"Skipping '{value}' as it is not a valid integer.\")\n",
        "\n",
        "    return binary_tree\n",
        "\n",
        "if __name__ == \"__main__\":\n",
        "    binary_tree = take_user_input()\n",
        "    print(\"Inorder Traversal:\")\n",
        "    binary_tree.inorder_traversal(binary_tree.root)\n"
      ]
    },
    {
      "cell_type": "markdown",
      "source": [
        "Find height of a given tree"
      ],
      "metadata": {
        "id": "7_kOlwgAEzSw"
      }
    },
    {
      "cell_type": "code",
      "source": [
        "class TreeNode:\n",
        "    def __init__(self, data):\n",
        "        self.data = data\n",
        "        self.left = None\n",
        "        self.right = None\n",
        "\n",
        "class BinaryTree:\n",
        "    def __init__(self):\n",
        "        self.root = None\n",
        "\n",
        "    def insert(self, data):\n",
        "        if self.root is None:\n",
        "            self.root = TreeNode(data)\n",
        "        else:\n",
        "            self._insert_recursive(self.root, data)\n",
        "\n",
        "    def _insert_recursive(self, node, data):\n",
        "        if data < node.data:\n",
        "            if node.left is None:\n",
        "                node.left = TreeNode(data)\n",
        "            else:\n",
        "                self._insert_recursive(node.left, data)\n",
        "        else:\n",
        "            if node.right is None:\n",
        "                node.right = TreeNode(data)\n",
        "            else:\n",
        "                self._insert_recursive(node.right, data)\n",
        "\n",
        "    def height(self):\n",
        "        return self._height_recursive(self.root)\n",
        "\n",
        "    def _height_recursive(self, node):\n",
        "        if node is None:\n",
        "            return 0\n",
        "        left_height = self._height_recursive(node.left)\n",
        "        right_height = self._height_recursive(node.right)\n",
        "        return max(left_height, right_height) + 1\n",
        "\n",
        "def take_user_input():\n",
        "    binary_tree = BinaryTree()\n",
        "    values = input(\"Enter values to insert into the binary tree: \").split(\",\")\n",
        "    for value in values:\n",
        "        try:\n",
        "            data = int(value)\n",
        "            binary_tree.insert(data)\n",
        "        except ValueError:\n",
        "            print(f\"Skipping '{value}' as it is not a valid integer.\")\n",
        "\n",
        "    return binary_tree\n",
        "\n",
        "if __name__ == \"__main__\":\n",
        "    binary_tree = take_user_input()\n",
        "    print(\"Height of the binary tree:\", binary_tree.height())\n"
      ],
      "metadata": {
        "colab": {
          "base_uri": "https://localhost:8080/"
        },
        "id": "3TZqGAA-E14g",
        "outputId": "47b5e930-1f03-401d-a407-74027b08018b"
      },
      "execution_count": null,
      "outputs": [
        {
          "output_type": "stream",
          "name": "stdout",
          "text": [
            "Enter values to insert into the binary tree: 2,4,6,1,3,5,6,4,3,2,1\n",
            "Height of the binary tree: 5\n"
          ]
        }
      ]
    },
    {
      "cell_type": "markdown",
      "source": [
        "Perform Pre-order, Post-order, In-order traversal\n"
      ],
      "metadata": {
        "id": "C86IAKIpsHMm"
      }
    },
    {
      "cell_type": "code",
      "source": [
        "class TreeNode:\n",
        "    def __init__(self, value):\n",
        "        self.value = value\n",
        "        self.left = None\n",
        "        self.right = None\n",
        "\n",
        "\n",
        "def build_binary_tree():\n",
        "    root_value = int(input(\"Enter the value for the root node: \"))\n",
        "    root = TreeNode(root_value)\n",
        "\n",
        "    queue = [root]\n",
        "    while queue:\n",
        "        current_node = queue.pop(0)\n",
        "\n",
        "        left_input = input(f\"Do you want to add a left child for node {current_node.value}? (y/n): \")\n",
        "        if left_input.lower() == 'y':\n",
        "            left_value = int(input(f\"Enter the left child value for node {current_node.value}: \"))\n",
        "            current_node.left = TreeNode(left_value)\n",
        "            queue.append(current_node.left)\n",
        "\n",
        "        right_input = input(f\"Do you want to add a right child for node {current_node.value}? (y/n): \")\n",
        "        if right_input.lower() == 'y':\n",
        "            right_value = int(input(f\"Enter the right child value for node {current_node.value}: \"))\n",
        "            current_node.right = TreeNode(right_value)\n",
        "            queue.append(current_node.right)\n",
        "\n",
        "    return root\n",
        "\n",
        "\n",
        "def preorder_traversal(node):\n",
        "    if node:\n",
        "        print(node.value, end=' ')\n",
        "        preorder_traversal(node.left)\n",
        "        preorder_traversal(node.right)\n",
        "\n",
        "\n",
        "def inorder_traversal(node):\n",
        "    if node:\n",
        "        inorder_traversal(node.left)\n",
        "        print(node.value, end=' ')\n",
        "        inorder_traversal(node.right)\n",
        "\n",
        "\n",
        "def postorder_traversal(node):\n",
        "    if node:\n",
        "        postorder_traversal(node.left)\n",
        "        postorder_traversal(node.right)\n",
        "        print(node.value, end=' ')\n",
        "\n",
        "root = build_binary_tree()\n",
        "\n",
        "print(\"Pre-order traversal:\")\n",
        "preorder_traversal(root)\n",
        "\n",
        "print(\"\\nIn-order traversal:\")\n",
        "inorder_traversal(root)\n",
        "\n",
        "print(\"\\nPost-order traversal:\")\n",
        "postorder_traversal(root)\n"
      ],
      "metadata": {
        "colab": {
          "base_uri": "https://localhost:8080/"
        },
        "id": "JYaYxJqVsKEF",
        "outputId": "33cd2842-2f91-4bbd-a635-c2395fe292ed"
      },
      "execution_count": null,
      "outputs": [
        {
          "output_type": "stream",
          "name": "stdout",
          "text": [
            "Enter the value for the root node: 6\n",
            "Do you want to add a left child for node 6? (y/n): y\n",
            "Enter the left child value for node 6: 2\n",
            "Do you want to add a right child for node 6? (y/n): y\n",
            "Enter the right child value for node 6: 8\n",
            "Do you want to add a left child for node 2? (y/n): y\n",
            "Enter the left child value for node 2: 2\n",
            "Do you want to add a right child for node 2? (y/n): y\n",
            "Enter the right child value for node 2: 4\n",
            "Do you want to add a left child for node 8? (y/n): n\n",
            "Do you want to add a right child for node 8? (y/n): n\n",
            "Do you want to add a left child for node 2? (y/n): n\n",
            "Do you want to add a right child for node 2? (y/n): n\n",
            "Do you want to add a left child for node 4? (y/n): n\n",
            "Do you want to add a right child for node 4? (y/n): n\n",
            "Pre-order traversal:\n",
            "6 2 2 4 8 \n",
            "In-order traversal:\n",
            "2 2 4 6 8 \n",
            "Post-order traversal:\n",
            "2 4 2 8 6 "
          ]
        }
      ]
    },
    {
      "cell_type": "markdown",
      "source": [
        "Function to print all the leaves in a given binary tree"
      ],
      "metadata": {
        "id": "D4hoNcxCui7o"
      }
    },
    {
      "cell_type": "code",
      "source": [
        "class TreeNode:\n",
        "    def __init__(self, value):\n",
        "        self.value = value\n",
        "        self.left = None\n",
        "        self.right = None\n",
        "\n",
        "\n",
        "def build_binary_tree():\n",
        "    root_value = int(input(\"Enter the value for the root node: \"))\n",
        "    root = TreeNode(root_value)\n",
        "\n",
        "    queue = [root]\n",
        "    while queue:\n",
        "        current_node = queue.pop(0)\n",
        "\n",
        "        left_input = input(f\"Do you want to add a left child for node {current_node.value}? (y/n): \")\n",
        "        if left_input.lower() == 'y':\n",
        "            left_value = int(input(f\"Enter the left child value for node {current_node.value}: \"))\n",
        "            current_node.left = TreeNode(left_value)\n",
        "            queue.append(current_node.left)\n",
        "\n",
        "        right_input = input(f\"Do you want to add a right child for node {current_node.value}? (y/n): \")\n",
        "        if right_input.lower() == 'y':\n",
        "            right_value = int(input(f\"Enter the right child value for node {current_node.value}: \"))\n",
        "            current_node.right = TreeNode(right_value)\n",
        "            queue.append(current_node.right)\n",
        "\n",
        "    return root\n",
        "\n",
        "\n",
        "def print_leaves(node):\n",
        "    if node:\n",
        "        if not node.left and not node.right:\n",
        "            print(node.value, end=' ')\n",
        "        else:\n",
        "            print_leaves(node.left)\n",
        "            print_leaves(node.right)\n",
        "\n",
        "\n",
        "root = build_binary_tree()\n",
        "\n",
        "print(\"Leaf nodes in the binary tree:\")\n",
        "print_leaves(root)\n"
      ],
      "metadata": {
        "colab": {
          "base_uri": "https://localhost:8080/"
        },
        "id": "GfIn7GQbukyJ",
        "outputId": "9784270a-e171-4169-a497-03624703665c"
      },
      "execution_count": null,
      "outputs": [
        {
          "output_type": "stream",
          "name": "stdout",
          "text": [
            "Enter the value for the root node: 6\n",
            "Do you want to add a left child for node 6? (y/n): y\n",
            "Enter the left child value for node 6: 2\n",
            "Do you want to add a right child for node 6? (y/n): y\n",
            "Enter the right child value for node 6: 33\n",
            "Do you want to add a left child for node 2? (y/n): n\n",
            "Do you want to add a right child for node 2? (y/n): n\n",
            "Do you want to add a left child for node 33? (y/n): n\n",
            "Do you want to add a right child for node 33? (y/n): n\n",
            "Leaf nodes in the binary tree:\n",
            "2 33 "
          ]
        }
      ]
    },
    {
      "cell_type": "markdown",
      "source": [
        "Implement BFS (Breath First Search) and DFS (Depth First Search)\n"
      ],
      "metadata": {
        "id": "f-bzIQxBvvZB"
      }
    },
    {
      "cell_type": "code",
      "source": [
        "class TreeNode:\n",
        "    def __init__(self, value):\n",
        "        self.value = value\n",
        "        self.left = None\n",
        "        self.right = None\n",
        "\n",
        "def build_binary_tree():\n",
        "    root_value = int(input(\"Enter the value for the root node: \"))\n",
        "    root = TreeNode(root_value)\n",
        "\n",
        "    queue = [root]\n",
        "    while queue:\n",
        "        current_node = queue.pop(0)\n",
        "\n",
        "        left_input = input(f\"Do you want to add a left child for node {current_node.value}? (y/n): \")\n",
        "        if left_input.lower() == 'y':\n",
        "            left_value = int(input(f\"Enter the left child value for node {current_node.value}: \"))\n",
        "            current_node.left = TreeNode(left_value)\n",
        "            queue.append(current_node.left)\n",
        "\n",
        "        right_input = input(f\"Do you want to add a right child for node {current_node.value}? (y/n): \")\n",
        "        if right_input.lower() == 'y':\n",
        "            right_value = int(input(f\"Enter the right child value for node {current_node.value}: \"))\n",
        "            current_node.right = TreeNode(right_value)\n",
        "            queue.append(current_node.right)\n",
        "\n",
        "    return root\n",
        "\n",
        "# BFS\n",
        "def bfs(root):\n",
        "    if root is None:\n",
        "        return\n",
        "\n",
        "    queue = [root]\n",
        "    while queue:\n",
        "        node = queue.pop(0)\n",
        "        print(node.value, end=' ')\n",
        "        if node.left:\n",
        "            queue.append(node.left)\n",
        "        if node.right:\n",
        "            queue.append(node.right)\n",
        "\n",
        "# DFS\n",
        "def dfs(root):\n",
        "    if root:\n",
        "        print(root.value, end=' ')\n",
        "        dfs(root.left)\n",
        "        dfs(root.right)\n",
        "\n",
        "\n",
        "root = build_binary_tree()\n",
        "\n",
        "print(\"Breadth-First Search (BFS):\")\n",
        "bfs(root)\n",
        "\n",
        "print(\"\\nDepth-First Search (DFS):\")\n",
        "dfs(root)\n"
      ],
      "metadata": {
        "colab": {
          "base_uri": "https://localhost:8080/"
        },
        "id": "PKd197W6vQIq",
        "outputId": "e282b1c4-49b5-4e13-cc86-24b0cc97a194"
      },
      "execution_count": null,
      "outputs": [
        {
          "output_type": "stream",
          "name": "stdout",
          "text": [
            "Enter the value for the root node: 5\n",
            "Do you want to add a left child for node 5? (y/n): y\n",
            "Enter the left child value for node 5: 32\n",
            "Do you want to add a right child for node 5? (y/n): y\n",
            "Enter the right child value for node 5: 22\n",
            "Do you want to add a left child for node 32? (y/n): y\n",
            "Enter the left child value for node 32: 2222\n",
            "Do you want to add a right child for node 32? (y/n): y\n",
            "Enter the right child value for node 32: 222222\n",
            "Do you want to add a left child for node 22? (y/n): n\n",
            "Do you want to add a right child for node 22? (y/n): n\n",
            "Do you want to add a left child for node 2222? (y/n): n\n",
            "Do you want to add a right child for node 2222? (y/n): n\n",
            "Do you want to add a left child for node 222222? (y/n): n\n",
            "Do you want to add a right child for node 222222? (y/n): n\n",
            "Breadth-First Search (BFS):\n",
            "5 32 22 2222 222222 \n",
            "Depth-First Search (DFS):\n",
            "5 32 2222 222222 22 "
          ]
        }
      ]
    },
    {
      "cell_type": "markdown",
      "source": [
        "Find sum of all left leaves in a given Binary Tree\n"
      ],
      "metadata": {
        "id": "3UwdDpuWv9EV"
      }
    },
    {
      "cell_type": "code",
      "source": [
        "class TreeNode:\n",
        "    def __init__(self, value):\n",
        "        self.value = value\n",
        "        self.left = None\n",
        "        self.right = None\n",
        "\n",
        "def build_binary_tree():\n",
        "    root_value = int(input(\"Enter the value for the root node: \"))\n",
        "    root = TreeNode(root_value)\n",
        "\n",
        "    queue = [root]\n",
        "    while queue:\n",
        "        current_node = queue.pop(0)\n",
        "\n",
        "        left_input = input(f\"Do you want to add a left child for node {current_node.value}? (y/n): \")\n",
        "        if left_input.lower() == 'y':\n",
        "            left_value = int(input(f\"Enter the left child value for node {current_node.value}: \"))\n",
        "            current_node.left = TreeNode(left_value)\n",
        "            queue.append(current_node.left)\n",
        "\n",
        "        right_input = input(f\"Do you want to add a right child for node {current_node.value}? (y/n): \")\n",
        "        if right_input.lower() == 'y':\n",
        "            right_value = int(input(f\"Enter the right child value for node {current_node.value}: \"))\n",
        "            current_node.right = TreeNode(right_value)\n",
        "            queue.append(current_node.right)\n",
        "\n",
        "    return root\n",
        "\n",
        "\n",
        "def sum_of_left_leaves(root):\n",
        "    if not root:\n",
        "        return 0\n",
        "\n",
        "    sum_left = 0\n",
        "\n",
        "    if root.left and not root.left.left and not root.left.right:\n",
        "        sum_left += root.left.value\n",
        "\n",
        "    sum_left += sum_of_left_leaves(root.left)\n",
        "    sum_left += sum_of_left_leaves(root.right)\n",
        "\n",
        "    return sum_left\n",
        "\n",
        "root = build_binary_tree()\n",
        "\n",
        "result = sum_of_left_leaves(root)\n",
        "\n",
        "print(\"Sum of left leaves in the binary tree:\", result)\n"
      ],
      "metadata": {
        "colab": {
          "base_uri": "https://localhost:8080/"
        },
        "id": "jdR4ZBxWwQFt",
        "outputId": "4193ce59-0f3a-4daf-c918-a3c2c14fcdac"
      },
      "execution_count": null,
      "outputs": [
        {
          "output_type": "stream",
          "name": "stdout",
          "text": [
            "Enter the value for the root node: 5\n",
            "Do you want to add a left child for node 5? (y/n): y\n",
            "Enter the left child value for node 5: 2\n",
            "Do you want to add a right child for node 5? (y/n): y\n",
            "Enter the right child value for node 5: 4\n",
            "Do you want to add a left child for node 2? (y/n): y\n",
            "Enter the left child value for node 2: 22\n",
            "Do you want to add a right child for node 2? (y/n): y\n",
            "Enter the right child value for node 2: 7\n",
            "Do you want to add a left child for node 4? (y/n): n\n",
            "Do you want to add a right child for node 4? (y/n): n\n",
            "Do you want to add a left child for node 22? (y/n): n\n",
            "Do you want to add a right child for node 22? (y/n): n\n",
            "Do you want to add a left child for node 7? (y/n): n\n",
            "Do you want to add a right child for node 7? (y/n): n\n",
            "Sum of left leaves in the binary tree: 22\n"
          ]
        }
      ]
    },
    {
      "cell_type": "markdown",
      "source": [
        "Find sum of all nodes of the given perfect binary tree\n"
      ],
      "metadata": {
        "id": "wxLWkwG_xhnx"
      }
    },
    {
      "cell_type": "code",
      "source": [
        "class TreeNode:\n",
        "    def __init__(self, value):\n",
        "        self.value = value\n",
        "        self.left = None\n",
        "        self.right = None\n",
        "\n",
        "def build_binary_tree(level, max_level):\n",
        "    if level > max_level:\n",
        "        return None\n",
        "\n",
        "    value = int(input(f\"Enter the value for node at level {level}: \"))\n",
        "    node = TreeNode(value)\n",
        "\n",
        "    node.left = build_binary_tree(level + 1, max_level)\n",
        "    node.right = build_binary_tree(level + 1, max_level)\n",
        "\n",
        "    return node\n",
        "\n",
        "def sum_of_all_nodes(root):\n",
        "    if not root:\n",
        "        return 0\n",
        "\n",
        "    return root.value + sum_of_all_nodes(root.left) + sum_of_all_nodes(root.right)\n",
        "\n",
        "max_level = int(input(\"Enter the maximum level of the perfect binary tree: \"))\n",
        "\n",
        "root = build_binary_tree(1, max_level)\n",
        "\n",
        "result = sum_of_all_nodes(root)\n",
        "\n",
        "print(\"Sum of all nodes in the binary tree:\", result)\n"
      ],
      "metadata": {
        "colab": {
          "base_uri": "https://localhost:8080/"
        },
        "id": "oDTNhV-vxZAi",
        "outputId": "64c3b226-aea8-4f19-9929-0395c1da53d4"
      },
      "execution_count": null,
      "outputs": [
        {
          "output_type": "stream",
          "name": "stdout",
          "text": [
            "Enter the maximum level of the perfect binary tree: 2\n",
            "Enter the value for node at level 1: 4\n",
            "Enter the value for node at level 2: 2\n",
            "Enter the value for node at level 2: 5\n",
            "Sum of all nodes in the binary tree: 11\n"
          ]
        }
      ]
    },
    {
      "cell_type": "markdown",
      "source": [
        "Count subtress that sum up to a given value x in a binary tree\n"
      ],
      "metadata": {
        "id": "9S22IRC91QYt"
      }
    },
    {
      "cell_type": "code",
      "source": [
        "class TreeNode:\n",
        "    def __init__(self, value):\n",
        "        self.value = value\n",
        "        self.left = None\n",
        "        self.right = None\n",
        "\n",
        "def build_binary_tree():\n",
        "    value = int(input(\"Enter the value for the current node or u can enter -1 : \"))\n",
        "    if value == -1:\n",
        "        return None\n",
        "\n",
        "    node = TreeNode(value)\n",
        "    node.left = build_binary_tree()\n",
        "    node.right = build_binary_tree()\n",
        "    return node\n",
        "\n",
        "def count_subtrees_with_sum(root, x):\n",
        "    if not root:\n",
        "        return 0\n",
        "\n",
        "    count = 0\n",
        "\n",
        "    def check_subtree_sum(node, x):\n",
        "        nonlocal count\n",
        "\n",
        "        if not node:\n",
        "            return 0\n",
        "\n",
        "        left_sum = check_subtree_sum(node.left, x)\n",
        "        right_sum = check_subtree_sum(node.right, x)\n",
        "        subtree_sum = left_sum + right_sum + node.value\n",
        "\n",
        "        if subtree_sum == x:\n",
        "            count += 1\n",
        "\n",
        "        return subtree_sum\n",
        "\n",
        "    check_subtree_sum(root, x)\n",
        "    return count\n",
        "\n",
        "\n",
        "root = build_binary_tree()\n",
        "\n",
        "x = int(input(\"Enter the value x that u want to : \"))\n",
        "\n",
        "result = count_subtrees_with_sum(root, x)\n",
        "\n",
        "print(f\"Number of subtrees with sum  {x}: {result}\")\n"
      ],
      "metadata": {
        "colab": {
          "base_uri": "https://localhost:8080/"
        },
        "id": "bgULh4TtyQdv",
        "outputId": "91174604-d991-4aaf-84fd-946b26af14cb"
      },
      "execution_count": 11,
      "outputs": [
        {
          "output_type": "stream",
          "name": "stdout",
          "text": [
            "Enter the value for the current node or u can enter -1 : 2\n",
            "Enter the value for the current node or u can enter -1 : 2\n",
            "Enter the value for the current node or u can enter -1 : -1\n",
            "Enter the value for the current node or u can enter -1 : -1\n",
            "Enter the value for the current node or u can enter -1 : -1\n",
            "Enter the value x that u want to : 2\n",
            "Number of subtrees with sum  2: 1\n"
          ]
        }
      ]
    },
    {
      "cell_type": "markdown",
      "source": [
        "Find maximum level sum in Binary Tree\n"
      ],
      "metadata": {
        "id": "MYr6JkIV0uok"
      }
    },
    {
      "cell_type": "code",
      "source": [
        "class TreeNode:\n",
        "    def __init__(self, value):\n",
        "        self.value = value\n",
        "        self.left = None\n",
        "        self.right = None\n",
        "\n",
        "def build_binary_tree():\n",
        "    value = int(input(\"Enter the value for the current node (or -1 to skip): \"))\n",
        "    if value == -1:\n",
        "        return None\n",
        "\n",
        "    node = TreeNode(value)\n",
        "    node.left = build_binary_tree()\n",
        "    node.right = build_binary_tree()\n",
        "    return node\n",
        "\n",
        "def max_level_sum(root):\n",
        "    if not root:\n",
        "        return 0\n",
        "\n",
        "    max_sum = float('-inf')\n",
        "    level_max_sum = root.value\n",
        "    queue = [root]\n",
        "\n",
        "    while queue:\n",
        "        level_sum = 0\n",
        "        level_size = len(queue)\n",
        "\n",
        "        for i in range(level_size):\n",
        "            current_node = queue.pop(0)\n",
        "            level_sum += current_node.value\n",
        "\n",
        "            if current_node.left:\n",
        "                queue.append(current_node.left)\n",
        "            if current_node.right:\n",
        "                queue.append(current_node.right)\n",
        "\n",
        "        if level_sum > max_sum:\n",
        "            max_sum = level_sum\n",
        "            level_max_sum = level_sum\n",
        "\n",
        "    return level_max_sum\n",
        "\n",
        "root = build_binary_tree()\n",
        "\n",
        "result = max_level_sum(root)\n",
        "\n",
        "print(f\"Maximum level sum in the binary tree: {result}\")\n"
      ],
      "metadata": {
        "colab": {
          "base_uri": "https://localhost:8080/"
        },
        "id": "5ef2J0Dw0avq",
        "outputId": "cb946bb8-20d7-4847-b3a6-242f055ce4c1"
      },
      "execution_count": null,
      "outputs": [
        {
          "output_type": "stream",
          "name": "stdout",
          "text": [
            "Enter the value for the current node (or -1 to skip): 3\n",
            "Enter the value for the current node (or -1 to skip): 1\n",
            "Enter the value for the current node (or -1 to skip): 2\n",
            "Enter the value for the current node (or -1 to skip): 3\n",
            "Enter the value for the current node (or -1 to skip): 2\n",
            "Enter the value for the current node (or -1 to skip): 1\n",
            "Enter the value for the current node (or -1 to skip): 44\n",
            "Enter the value for the current node (or -1 to skip): 2\n",
            "Enter the value for the current node (or -1 to skip): -1\n",
            "Enter the value for the current node (or -1 to skip): -1\n",
            "Enter the value for the current node (or -1 to skip): -1\n",
            "Enter the value for the current node (or -1 to skip): -1\n",
            "Enter the value for the current node (or -1 to skip): -1\n",
            "Enter the value for the current node (or -1 to skip): -1\n",
            "Enter the value for the current node (or -1 to skip): -1\n",
            "Enter the value for the current node (or -1 to skip): -1\n",
            "Enter the value for the current node (or -1 to skip): -1\n",
            "Maximum level sum in the binary tree: 44\n"
          ]
        }
      ]
    },
    {
      "cell_type": "markdown",
      "source": [
        "Print the nodes at odd levels of a tree\n"
      ],
      "metadata": {
        "id": "bn6mFLp11LYH"
      }
    },
    {
      "cell_type": "code",
      "source": [
        "class TreeNode:\n",
        "    def __init__(self, value):\n",
        "        self.value = value\n",
        "        self.left = None\n",
        "        self.right = None\n",
        "\n",
        "def build_binary_tree():\n",
        "    value = int(input(\"Enter the value for the current node (or -1 to skip): \"))\n",
        "    if value == -1:\n",
        "        return None\n",
        "\n",
        "    node = TreeNode(value)\n",
        "    node.left = build_binary_tree()\n",
        "    node.right = build_binary_tree()\n",
        "    return node\n",
        "\n",
        "def print_nodes_at_odd_levels(root, level=1):\n",
        "    if not root:\n",
        "        return\n",
        "\n",
        "    if level % 2 == 1:\n",
        "        print(root.value, end=' ')\n",
        "\n",
        "    print_nodes_at_odd_levels(root.left, level + 1)\n",
        "    print_nodes_at_odd_levels(root.right, level + 1)\n",
        "\n",
        "root = build_binary_tree()\n",
        "\n",
        "print(\"Nodes at odd levels in the binary tree:\")\n",
        "print_nodes_at_odd_levels(root)\n"
      ],
      "metadata": {
        "colab": {
          "base_uri": "https://localhost:8080/"
        },
        "id": "P5pun9Z507zb",
        "outputId": "8e030160-c84c-4e79-bb78-24b77e61af65"
      },
      "execution_count": null,
      "outputs": [
        {
          "output_type": "stream",
          "name": "stdout",
          "text": [
            "Enter the value for the current node (or -1 to skip): 6\n",
            "Enter the value for the current node (or -1 to skip): 4\n",
            "Enter the value for the current node (or -1 to skip): 2\n",
            "Enter the value for the current node (or -1 to skip): 6\n",
            "Enter the value for the current node (or -1 to skip): 9\n",
            "Enter the value for the current node (or -1 to skip): -1\n",
            "Enter the value for the current node (or -1 to skip): -1\n",
            "Enter the value for the current node (or -1 to skip): -1\n",
            "Enter the value for the current node (or -1 to skip): -1\n",
            "Enter the value for the current node (or -1 to skip): -1\n",
            "Enter the value for the current node (or -1 to skip): -1\n",
            "Nodes at odd levels in the binary tree:\n",
            "6 2 9 "
          ]
        }
      ]
    }
  ]
}