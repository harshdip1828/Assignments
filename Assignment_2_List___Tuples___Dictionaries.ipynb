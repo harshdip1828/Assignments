{
  "nbformat": 4,
  "nbformat_minor": 0,
  "metadata": {
    "colab": {
      "provenance": []
    },
    "kernelspec": {
      "name": "python3",
      "display_name": "Python 3"
    },
    "language_info": {
      "name": "python"
    }
  },
  "cells": [
    {
      "cell_type": "markdown",
      "source": [
        "# Write a Python program to get a list, sorted in increasing order by the last element in each tuple from a given list of non-empty tuples"
      ],
      "metadata": {
        "id": "sfY-lUGs7rOo"
      }
    },
    {
      "cell_type": "code",
      "execution_count": 9,
      "metadata": {
        "colab": {
          "base_uri": "https://localhost:8080/"
        },
        "id": "ARtFAYnq7p1l",
        "outputId": "791230c1-c9f2-447d-dad2-1c565b4690e1"
      },
      "outputs": [
        {
          "output_type": "stream",
          "name": "stdout",
          "text": [
            "Enter the len of list :5\n",
            "enter tuple that u want :2,5\n",
            "enter tuple that u want :1,2\n",
            "enter tuple that u want :4,4\n",
            "enter tuple that u want :2,3\n",
            "enter tuple that u want :2,1\n",
            "[(2, 5), (1, 2), (4, 4), (2, 3), (2, 1)]\n",
            " Here List sorted in increasing order by each tuple : [(2, 1), (1, 2), (2, 3), (4, 4), (2, 5)]\n"
          ]
        }
      ],
      "source": [
        "Tup_l = []\n",
        "n = int(input(\"Enter the len of list :\"))\n",
        "for i in range (0,n):\n",
        "    ele = input(\"enter tuple that u want :\").split(\",\")\n",
        "    ele = tuple(map(int,ele))\n",
        "    Tup_l.append(tuple(ele))\n",
        "print(Tup_l)\n",
        "\n",
        "def last(n):\n",
        "    return n[-1]\n",
        "\n",
        "def sort(tuples):\n",
        "    return sorted(tuples, key=last)\n",
        "\n",
        "print(\" Here List sorted in increasing order by each tuple :\",sort(Tup_l))"
      ]
    },
    {
      "cell_type": "markdown",
      "source": [
        "#Write a Python program to print a dictionary whose keys should be the alphabet from a-z and the value should be corresponding ASCII values\n",
        "\n"
      ],
      "metadata": {
        "id": "vweGb-W8CvBc"
      }
    },
    {
      "cell_type": "code",
      "source": [
        "empty_dict = {}\n",
        "\n",
        "def dict1(input_string):\n",
        "    for i in input_string:\n",
        "        if 'a' <= i <= 'z':\n",
        "            empty_dict[i] = ord(i)\n",
        "    return empty_dict\n",
        "\n",
        "i = input(\"Enter a string That You want : \")\n",
        "ascii_dict = dict1(i)\n",
        "print(empty_dict)"
      ],
      "metadata": {
        "id": "R1rDbBswMuyA",
        "colab": {
          "base_uri": "https://localhost:8080/"
        },
        "outputId": "391fc62c-9a7c-46c2-abbc-573e1ecb7c5a"
      },
      "execution_count": 7,
      "outputs": [
        {
          "output_type": "stream",
          "name": "stdout",
          "text": [
            "Enter a string That You want : harsh\n",
            "{'h': 104, 'a': 97, 'r': 114, 's': 115}\n"
          ]
        }
      ]
    }
  ]
}