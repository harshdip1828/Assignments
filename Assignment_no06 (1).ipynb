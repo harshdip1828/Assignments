{
  "nbformat": 4,
  "nbformat_minor": 0,
  "metadata": {
    "colab": {
      "provenance": []
    },
    "kernelspec": {
      "name": "python3",
      "display_name": "Python 3"
    },
    "language_info": {
      "name": "python"
    }
  },
  "cells": [
    {
      "cell_type": "code",
      "execution_count": 2,
      "metadata": {
        "colab": {
          "base_uri": "https://localhost:8080/"
        },
        "id": "QQnSzhWUARhl",
        "outputId": "e2477a02-966a-490d-dcb9-5a7ca05ca40b"
      },
      "outputs": [
        {
          "name": "stdout",
          "output_type": "stream",
          "text": [
            "Enter the number of employees: 5\n",
            "Enter details for Employee 1:\n",
            "Name: Harshdip\n",
            "DOB (YYYY-MM-DD): 1998-09-12\n",
            "Height: 6\n",
            "City: pune\n",
            "State: MH\n",
            "Enter details for Employee 2:\n",
            "Name: Sk\n",
            "DOB (YYYY-MM-DD): 1999-02-19\n",
            "Height: 6\n",
            "City: Kolhapur\n",
            "State: MH\n",
            "Enter details for Employee 3:\n",
            "Name: Aish\n",
            "DOB (YYYY-MM-DD): 2000-09-12\n",
            "Height: 7\n",
            "City: Nashik\n",
            "State: MH\n",
            "Enter details for Employee 4:\n",
            "Name: JK\n",
            "DOB (YYYY-MM-DD): 1998-12-02\n",
            "Height: 6\n",
            "City: Karad\n",
            "State: MH\n",
            "Enter details for Employee 5:\n",
            "Name: Harsh\n",
            "DOB (YYYY-MM-DD): 1998-12-17\n",
            "Height: 6\n",
            "City: satara\n",
            "State: MH\n"
          ]
        }
      ],
      "source": [
        "\n",
        "import json\n",
        "\n",
        "employee_data = []\n",
        "num_employees = int(input(\"Enter the number of employees: \"))\n",
        "\n",
        "for i in range(num_employees):\n",
        "    print(f\"Enter details for Employee {i + 1}:\")\n",
        "    name = input(\"Name: \")\n",
        "    dob = input(\"DOB (YYYY-MM-DD): \")\n",
        "    height = int(input(\"Height: \"))\n",
        "    city = input(\"City: \")\n",
        "    state = input(\"State: \")\n",
        "    employee_data.append({\n",
        "        \"Name\": name,\n",
        "        \"DOB\": dob,\n",
        "        \"Height\": height,\n",
        "        \"City\": city,\n",
        "        \"State\": state\n",
        "    })\n",
        "\n",
        "\n",
        "with open('employee.json', 'w') as file:\n",
        "    json.dump(employee_data, file, indent=4)"
      ]
    },
    {
      "cell_type": "code",
      "source": [
        "import json\n",
        "\n",
        "class Employee:\n",
        "    def __init__(self, name, dob, height, city, state):\n",
        "        self.name = name\n",
        "        self.dob = dob\n",
        "        self.height = height\n",
        "        self.city = city\n",
        "        self.state = state\n",
        "\n",
        "with open('employee.json', 'r') as file:\n",
        "    employee_data = json.load(file)\n",
        "\n",
        "employee_objects = []\n",
        "for employee in employee_data:\n",
        "    employee_obj = Employee(\n",
        "        employee[\"Name\"],\n",
        "        employee[\"DOB\"],\n",
        "        employee[\"Height\"],\n",
        "        employee[\"City\"],\n",
        "        employee[\"State\"]\n",
        "    )\n",
        "    employee_objects.append(employee_obj)\n",
        "\n",
        "for employee in employee_objects:\n",
        "    print(f\"Name: {employee.name}, DOB: {employee.dob}, Height: {employee.height}, City: {employee.city},State:{employee.state}\")"
      ],
      "metadata": {
        "colab": {
          "base_uri": "https://localhost:8080/"
        },
        "id": "errHUkCqAX-y",
        "outputId": "aebcb414-401d-491e-cdf7-b52537023a15"
      },
      "execution_count": 3,
      "outputs": [
        {
          "output_type": "stream",
          "name": "stdout",
          "text": [
            "Name: Harshdip, DOB: 1998-09-12, Height: 6, City: pune,State:MH\n",
            "Name: Sk, DOB: 1999-02-19, Height: 6, City: Kolhapur,State:MH\n",
            "Name: Aish, DOB: 2000-09-12, Height: 7, City: Nashik,State:MH\n",
            "Name: JK, DOB: 1998-12-02, Height: 6, City: Karad,State:MH\n",
            "Name: Harsh, DOB: 1998-12-17, Height: 6, City: satara,State:MH\n"
          ]
        }
      ]
    },
    {
      "cell_type": "code",
      "source": [
        "import json\n",
        "\n",
        "indian_states = {}\n",
        "\n",
        "for _ in range(7):\n",
        "    state = input(\"Enter an Indian state: \")\n",
        "    capital = input(f\"Enter the capital of {state}: \")\n",
        "    indian_states[state] = capital\n",
        "\n",
        "with open(\"indian_states.json\", \"w\") as json_file:\n",
        "    json.dump(indian_states, json_file,indent=4)\n",
        "\n",
        "print(\"JSON file created successfully.\")\n"
      ],
      "metadata": {
        "colab": {
          "base_uri": "https://localhost:8080/"
        },
        "id": "jmjbZpVkAfHO",
        "outputId": "38a801d8-18e7-414c-afb5-9f7911265654"
      },
      "execution_count": 4,
      "outputs": [
        {
          "output_type": "stream",
          "name": "stdout",
          "text": [
            "Enter an Indian state: Maharastra\n",
            "Enter the capital of Maharastra: Mumbai\n",
            "Enter an Indian state: Karnataka\n",
            "Enter the capital of Karnataka: Banlore\n",
            "Enter an Indian state: Gujrat\n",
            "Enter the capital of Gujrat: Gandhinagar\n",
            "Enter an Indian state: Tamilnadu\n",
            "Enter the capital of Tamilnadu: chennai\n",
            "Enter an Indian state: UP\n",
            "Enter the capital of UP: Lakhnow\n",
            "Enter an Indian state: Goa\n",
            "Enter the capital of Goa: panji\n",
            "Enter an Indian state: Rajstan\n",
            "Enter the capital of Rajstan: jaipur\n",
            "JSON file created successfully.\n"
          ]
        }
      ]
    },
    {
      "cell_type": "code",
      "source": [
        "class Dog:\n",
        "    def __init__(self, name, age, coat_color):\n",
        "        self.name = name\n",
        "        self.age = age\n",
        "        self.coat_color = coat_color\n",
        "\n",
        "    def description(self):\n",
        "        print(f\"Dog's name is {self.name} and age is {self.age} years.\")\n",
        "\n",
        "    def get_info(self):\n",
        "        print(f\"The dog's coat color is {self.coat_color}.\")\n",
        "\n",
        "class JackRussellTerrier(Dog):\n",
        "    def __init__(self, name, age, coat_color, uniqueness):\n",
        "        super().__init__(name, age, coat_color)\n",
        "        self.uniqueness = uniqueness\n",
        "\n",
        "    def speciality(self):\n",
        "        print(f\"{self.name} has a uniqueness: {self.uniqueness}.\")\n",
        "\n",
        "class Bulldog(Dog):\n",
        "    def __init__(self, name, age, coat_color, strength):\n",
        "        super().__init__(name, age, coat_color)\n",
        "        self.strength = strength\n",
        "\n",
        "    def show_strength(self):\n",
        "        print(f\"{self.name} is known for its strength: {self.strength}.\")\n",
        "\n",
        "# Taking user input for dog objects\n",
        "def create_dog():\n",
        "    name = input(\"Enter dog's name: \")\n",
        "    age = int(input(\"Enter dog's age: \"))\n",
        "    coat_color = input(\"Enter coat color: \")\n",
        "    dog_type = int(input(\"Enter dog type (1 for JackRussellTerrier, 2 for Bulldog, any other key for default Dog): \"))\n",
        "    if dog_type == 1:\n",
        "        uniqueness = input(\"Enter uniqueness: \")\n",
        "        return JackRussellTerrier(name, age, coat_color, uniqueness)\n",
        "    elif dog_type == 2:\n",
        "        strength = input(\"Enter strength: \")\n",
        "        return Bulldog(name, age, coat_color, strength)\n",
        "    else:\n",
        "        return Dog(name, age, coat_color)\n",
        "\n",
        "dog = create_dog()\n",
        "\n",
        "dog.description()\n",
        "dog.get_info()\n",
        "\n",
        "if isinstance(dog, JackRussellTerrier):\n",
        "    dog.speciality()\n",
        "elif isinstance(dog, Bulldog):\n",
        "    dog.show_strength()"
      ],
      "metadata": {
        "colab": {
          "base_uri": "https://localhost:8080/"
        },
        "id": "V_U7v65pAgto",
        "outputId": "340b0e99-7d99-442a-a91d-873c95de0eb9"
      },
      "execution_count": 5,
      "outputs": [
        {
          "output_type": "stream",
          "name": "stdout",
          "text": [
            "Enter dog's name: Rocky\n",
            "Enter dog's age: 2\n",
            "Enter coat color: Brown\n",
            "Enter dog type (1 for JackRussellTerrier, 2 for Bulldog, any other key for default Dog): 1\n",
            "Enter uniqueness: color\n",
            "Dog's name is Rocky and age is 2 years.\n",
            "The dog's coat color is Brown.\n",
            "Rocky has a uniqueness: color.\n"
          ]
        }
      ]
    }
  ]
}