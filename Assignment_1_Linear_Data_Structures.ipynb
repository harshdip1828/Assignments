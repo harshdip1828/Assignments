{
  "nbformat": 4,
  "nbformat_minor": 0,
  "metadata": {
    "colab": {
      "provenance": []
    },
    "kernelspec": {
      "name": "python3",
      "display_name": "Python 3"
    },
    "language_info": {
      "name": "python"
    }
  },
  "cells": [
    {
      "cell_type": "markdown",
      "source": [
        "#Assignment-1: Linear Data Structures"
      ],
      "metadata": {
        "id": "M6gdmga_GXGO"
      }
    },
    {
      "cell_type": "markdown",
      "source": [
        " Write a program to find all pairs of an integer array whose sum is equal to a given number?"
      ],
      "metadata": {
        "id": "GZ4jUYQa9X1M"
      }
    },
    {
      "cell_type": "code",
      "execution_count": 1,
      "metadata": {
        "colab": {
          "base_uri": "https://localhost:8080/"
        },
        "id": "o_Zu-o4t81yj",
        "outputId": "409931aa-f373-4496-b57b-3a5a7c870923"
      },
      "outputs": [
        {
          "output_type": "stream",
          "name": "stdout",
          "text": [
            "Enter the integer array, separated by spaces: 1 2 4 5 1 2\n",
            "Enter the target sum: 3\n",
            "Pairs with sum equal to 3 are:\n",
            "(2, 1)\n",
            "(1, 2)\n",
            "(2, 1)\n"
          ]
        }
      ],
      "source": [
        "def find_pairs_with_sum(arr, target_sum):\n",
        "    pairs = []\n",
        "    seen = set()\n",
        "\n",
        "    for num in arr:\n",
        "        complement = target_sum - num\n",
        "        if complement in seen:\n",
        "            pairs.append((num, complement))\n",
        "        seen.add(num)\n",
        "\n",
        "    return pairs\n",
        "\n",
        "\n",
        "arr_input = input(\"Enter the integer array, separated by spaces: \")\n",
        "arr = list(map(int, arr_input.split()))\n",
        "\n",
        "target_sum = int(input(\"Enter the target sum: \"))\n",
        "\n",
        "result = find_pairs_with_sum(arr, target_sum)\n",
        "\n",
        "if result:\n",
        "    print(\"Pairs with sum equal to\", target_sum, \"are:\")\n",
        "    for pair in result:\n",
        "        print(pair)\n",
        "else:\n",
        "    print(\"No pairs found with the given sum.\")\n"
      ]
    },
    {
      "cell_type": "markdown",
      "source": [
        " Write a program to reverse an array in place? In place means you cannot create a new array. You have to update the original array.\n",
        "\n"
      ],
      "metadata": {
        "id": "6es8HeN79bPE"
      }
    },
    {
      "cell_type": "code",
      "source": [
        "def reverse_array_in_place(arr):\n",
        "    left = 0\n",
        "    right = len(arr) - 1\n",
        "\n",
        "    while left < right:\n",
        "        arr[left], arr[right] = arr[right], arr[left]\n",
        "        left += 1\n",
        "        right -= 1\n",
        "\n",
        "arr_input = input(\"Enter the elements of the array, separated by spaces: \")\n",
        "arr = list(map(int, arr_input.split()))\n",
        "\n",
        "print(\"Original array:\", arr)\n",
        "reverse_array_in_place(arr)\n",
        "print(\"Reversed array:\", arr)\n"
      ],
      "metadata": {
        "colab": {
          "base_uri": "https://localhost:8080/"
        },
        "id": "bEuvA2mN9dS3",
        "outputId": "dbfa6fe3-d2f7-42ff-cb0f-1dbef8c2c95c"
      },
      "execution_count": 2,
      "outputs": [
        {
          "output_type": "stream",
          "name": "stdout",
          "text": [
            "Enter the elements of the array, separated by spaces: 1 2 1 2 1 12\n",
            "Original array: [1, 2, 1, 2, 1, 12]\n",
            "Reversed array: [12, 1, 2, 1, 2, 1]\n"
          ]
        }
      ]
    },
    {
      "cell_type": "markdown",
      "source": [
        "Write a program to check if two strings are a rotation of each other?"
      ],
      "metadata": {
        "id": "pf1OHhMS90MW"
      }
    },
    {
      "cell_type": "code",
      "source": [
        "def are_rotations(str1, str2):\n",
        "    if len(str1) != len(str2):\n",
        "        return False\n",
        "\n",
        "    combined_str = str1 + str1\n",
        "\n",
        "    if str2 in combined_str:\n",
        "        return True\n",
        "    else:\n",
        "        return False\n",
        "\n",
        "str1 = input(\"Enter the first string: \")\n",
        "str2 = input(\"Enter the second string: \")\n",
        "\n",
        "if are_rotations(str1, str2):\n",
        "    print(\"The strings are rotations of each other.\")\n",
        "else:\n",
        "    print(\"The strings are not rotations of each other.\")\n"
      ],
      "metadata": {
        "colab": {
          "base_uri": "https://localhost:8080/"
        },
        "id": "jyYNb5Wn90_0",
        "outputId": "25288024-2b05-4686-b5c0-74a622687810"
      },
      "execution_count": 4,
      "outputs": [
        {
          "output_type": "stream",
          "name": "stdout",
          "text": [
            "Enter the first string: stack\n",
            "Enter the second string: stack\n",
            "The strings are rotations of each other.\n"
          ]
        }
      ]
    },
    {
      "cell_type": "markdown",
      "source": [
        "Write a program to print the first non-repeated character from a string?"
      ],
      "metadata": {
        "id": "0Rg81V49-L_e"
      }
    },
    {
      "cell_type": "code",
      "source": [
        "def first_non_repeated_char(s):\n",
        "    char_count = {}\n",
        "\n",
        "\n",
        "    for char in s:\n",
        "        char_count[char] = char_count.get(char, 0) + 1\n",
        "\n",
        "\n",
        "    for char in s:\n",
        "        if char_count[char] == 1:\n",
        "            return char\n",
        "\n",
        "    return None\n",
        "\n",
        "input_str = input(\"Enter a string: \")\n",
        "\n",
        "result = first_non_repeated_char(input_str)\n",
        "\n",
        "if result:\n",
        "    print(\"The first non-repeated character is:\", result)\n",
        "else:\n",
        "    print(\"No non-repeated character found in the string.\")\n"
      ],
      "metadata": {
        "colab": {
          "base_uri": "https://localhost:8080/"
        },
        "id": "C750aqin-O1r",
        "outputId": "b66f78eb-54e3-4972-a5ef-165d5a8a5f87"
      },
      "execution_count": 6,
      "outputs": [
        {
          "output_type": "stream",
          "name": "stdout",
          "text": [
            "Enter a string: stack\n",
            "The first non-repeated character is: s\n"
          ]
        }
      ]
    },
    {
      "cell_type": "markdown",
      "source": [
        "Read about infix, prefix, and postfix expressions. Write a program to convert postfix to prefix expression."
      ],
      "metadata": {
        "id": "WS6X15dZ-jbQ"
      }
    },
    {
      "cell_type": "code",
      "source": [
        "def postfix_to_prefix(postfix):\n",
        "    stack = []\n",
        "\n",
        "    for token in postfix:\n",
        "        if token.isalnum():\n",
        "            stack.append(token)\n",
        "        else:\n",
        "            operand2 = stack.pop()\n",
        "            operand1 = stack.pop()\n",
        "            new_token = token + operand1 + operand2\n",
        "            stack.append(new_token)\n",
        "\n",
        "    return stack[0]\n",
        "\n",
        "postfix_expr = input(\"Enter the postfix expression, with operands/operators separated by spaces: \").split()\n",
        "\n",
        "prefix_expr = postfix_to_prefix(postfix_expr)\n",
        "print(\"Equivalent prefix expression:\", prefix_expr)\n"
      ],
      "metadata": {
        "colab": {
          "base_uri": "https://localhost:8080/"
        },
        "id": "8VWYsGAO-myX",
        "outputId": "0051d088-6b53-4c16-93f3-1263b4f3e193"
      },
      "execution_count": 10,
      "outputs": [
        {
          "output_type": "stream",
          "name": "stdout",
          "text": [
            "Enter the postfix expression, with operands/operators separated by spaces: 11 12 13 - 12\n",
            "Equivalent prefix expression: 11\n"
          ]
        }
      ]
    },
    {
      "cell_type": "markdown",
      "source": [
        "Write a program to convert prefix expression to infix expression.\n",
        "\n"
      ],
      "metadata": {
        "id": "UrbqEbsC_pCe"
      }
    },
    {
      "cell_type": "code",
      "source": [
        "def is_operator(token):\n",
        "    return token in \"+-*/\"\n",
        "\n",
        "def prefix_to_infix(prefix):\n",
        "    stack = []\n",
        "\n",
        "    for token in reversed(prefix):\n",
        "        if token.isalnum():\n",
        "            stack.append(token)\n",
        "        elif is_operator(token):\n",
        "            operand1 = stack.pop()\n",
        "            operand2 = stack.pop()\n",
        "            infix_token = f\"({operand1} {token} {operand2})\"\n",
        "            stack.append(infix_token)\n",
        "\n",
        "    return stack[0]\n",
        "\n",
        "prefix_expr = input(\"Enter the prefix expression, with operands/operators separated by spaces: \").split()\n",
        "\n",
        "infix_expr = prefix_to_infix(prefix_expr)\n",
        "print(\"Equivalent infix expression:\", infix_expr)\n"
      ],
      "metadata": {
        "colab": {
          "base_uri": "https://localhost:8080/"
        },
        "id": "ikE8jA0z_R3j",
        "outputId": "09247f12-02f0-45e5-bd10-6dc42db3f671"
      },
      "execution_count": 16,
      "outputs": [
        {
          "output_type": "stream",
          "name": "stdout",
          "text": [
            "Enter the prefix expression, with operands/operators separated by spaces: 22 111 1111 222 1\n",
            "Equivalent infix expression: 1\n"
          ]
        }
      ]
    },
    {
      "cell_type": "markdown",
      "source": [
        "Write a program to check if all the brackets are closed in a given code snippet."
      ],
      "metadata": {
        "id": "HmrRYjUP_tDO"
      }
    },
    {
      "cell_type": "code",
      "source": [
        "def are_brackets_balanced(code):\n",
        "    stack = []\n",
        "    opening_brackets = \"([{\"\n",
        "    closing_brackets = \")]}\"\n",
        "    bracket_pairs = {\")\": \"(\", \"]\": \"[\", \"}\": \"{\"}\n",
        "\n",
        "    for char in code:\n",
        "        if char in opening_brackets:\n",
        "            stack.append(char)\n",
        "        elif char in closing_brackets:\n",
        "            if not stack or stack[-1] != bracket_pairs[char]:\n",
        "                return False\n",
        "            stack.pop()\n",
        "\n",
        "    return not stack\n",
        "\n",
        "\n",
        "code_snippet = input(\"Enter the code snippet: \")\n",
        "\n",
        "if are_brackets_balanced(code_snippet):\n",
        "    print(\"All brackets are properly closed.\")\n",
        "else:\n",
        "    print(\"Not all brackets are properly closed.\")\n"
      ],
      "metadata": {
        "colab": {
          "base_uri": "https://localhost:8080/"
        },
        "id": "KQU7N9Cr_u8B",
        "outputId": "7fadd1f9-debd-4c0f-f812-762fd5333bc8"
      },
      "execution_count": 19,
      "outputs": [
        {
          "output_type": "stream",
          "name": "stdout",
          "text": [
            "Enter the code snippet: {{(())}}\n",
            "All brackets are properly closed.\n"
          ]
        }
      ]
    },
    {
      "cell_type": "markdown",
      "source": [
        " Write a program to reverse a stack."
      ],
      "metadata": {
        "id": "o9wvC5SHAKcP"
      }
    },
    {
      "cell_type": "code",
      "source": [
        "class Stack:\n",
        "    def __init__(self):\n",
        "        self.items = []\n",
        "\n",
        "    def is_empty(self):\n",
        "        return self.items == []\n",
        "\n",
        "    def push(self, data):\n",
        "        self.items.append(data)\n",
        "\n",
        "    def pop(self):\n",
        "        return self.items.pop()\n",
        "\n",
        "    def display(self):\n",
        "        for data in reversed(self.items):\n",
        "            print(data)\n",
        "\n",
        "def insert_at_bottom(s, data):\n",
        "    if s.is_empty():\n",
        "        s.push(data)\n",
        "    else:\n",
        "        popped = s.pop()\n",
        "        insert_at_bottom(s, data)\n",
        "        s.push(popped)\n",
        "\n",
        "\n",
        "def reverse_stack(s):\n",
        "    if not s.is_empty():\n",
        "        popped = s.pop()\n",
        "        reverse_stack(s)\n",
        "        insert_at_bottom(s, popped)\n",
        "\n",
        "\n",
        "s = Stack()\n",
        "data_list = input('Please enter the elements to push: ').split()\n",
        "for data in data_list:\n",
        "    s.push(int(data))\n",
        "\n",
        "print('The stack:')\n",
        "s.display()\n",
        "reverse_stack(s)\n",
        "print('After reversing Stack is below :')\n",
        "s.display()\n"
      ],
      "metadata": {
        "colab": {
          "base_uri": "https://localhost:8080/"
        },
        "id": "jecKDADZAM1y",
        "outputId": "e82dfb9e-a881-4a97-f141-c4b6533c9f2f"
      },
      "execution_count": 29,
      "outputs": [
        {
          "output_type": "stream",
          "name": "stdout",
          "text": [
            "Please enter the elements to push: 12 23 45 22 21 15 09\n",
            "The stack:\n",
            "9\n",
            "15\n",
            "21\n",
            "22\n",
            "45\n",
            "23\n",
            "12\n",
            "After reversing Stack is below :\n",
            "12\n",
            "23\n",
            "45\n",
            "22\n",
            "21\n",
            "15\n",
            "9\n"
          ]
        }
      ]
    },
    {
      "cell_type": "markdown",
      "source": [
        "Write a program to find the smallest number using a stack."
      ],
      "metadata": {
        "id": "E6FFVy2PAosz"
      }
    },
    {
      "cell_type": "code",
      "source": [
        "stack = []\n",
        "\n",
        "def push(item):\n",
        "    stack.append(item)\n",
        "\n",
        "def pop():\n",
        "    if not is_empty():\n",
        "        return stack.pop()\n",
        "    else:\n",
        "        return None\n",
        "\n",
        "def is_empty():\n",
        "    return len(stack) == 0\n",
        "\n",
        "\n",
        "num_elements = int(input(\"Enter the number of elements: \"))\n",
        "for _ in range(num_elements):\n",
        "    element = int(input(\"Enter an element: \"))\n",
        "    push(element)\n",
        "\n",
        "smallest = float('inf')\n",
        "\n",
        "while not is_empty():\n",
        "    current = pop()\n",
        "    smallest = min(smallest, current)\n",
        "\n",
        "if smallest != float('inf'):\n",
        "    print(\"The smallest number in the stack is:\", smallest)\n",
        "else:\n",
        "    print(\"The stack is empty.\")\n"
      ],
      "metadata": {
        "colab": {
          "base_uri": "https://localhost:8080/"
        },
        "id": "-nqM79SKAxe5",
        "outputId": "298e9771-81fe-4393-a491-1a5b57857e58"
      },
      "execution_count": 32,
      "outputs": [
        {
          "output_type": "stream",
          "name": "stdout",
          "text": [
            "Enter the number of elements: 5\n",
            "Enter an element: 12\n",
            "Enter an element: 11\n",
            "Enter an element: 2\n",
            "Enter an element: 5\n",
            "Enter an element: 43\n",
            "The smallest number in the stack is: 2\n"
          ]
        }
      ]
    },
    {
      "cell_type": "markdown",
      "source": [
        "Read about the Tower of Hanoi algorithm. Write a program to implement it."
      ],
      "metadata": {
        "id": "TgvIbYkmBprg"
      }
    },
    {
      "cell_type": "code",
      "source": [
        "def tower_of_hanoi(n, source, auxiliary, target):\n",
        "    if n == 1:\n",
        "        print(f\"Move disk 1 from {source} to {target}\")\n",
        "        return\n",
        "    tower_of_hanoi(n - 1, source, target, auxiliary)\n",
        "    print(f\"Move disk {n} from {source} to {target}\")\n",
        "    tower_of_hanoi(n - 1, auxiliary, source, target)\n",
        "\n",
        "num_disks = int(input(\"Enter the number of disks: \"))\n",
        "tower_of_hanoi(num_disks, 'A', 'B', 'C')\n"
      ],
      "metadata": {
        "colab": {
          "base_uri": "https://localhost:8080/"
        },
        "id": "7Gs6nn3nBjUJ",
        "outputId": "53fcc0ce-84e2-484e-beca-1c6593f61f19"
      },
      "execution_count": 26,
      "outputs": [
        {
          "output_type": "stream",
          "name": "stdout",
          "text": [
            "Enter the number of disks: 3\n",
            "Move disk 1 from A to C\n",
            "Move disk 2 from A to B\n",
            "Move disk 1 from C to B\n",
            "Move disk 3 from A to C\n",
            "Move disk 1 from B to A\n",
            "Move disk 2 from B to C\n",
            "Move disk 1 from A to C\n"
          ]
        }
      ]
    }
  ]
}